{
  "cells": [
    {
      "cell_type": "markdown",
      "id": "38dd63ed-e907-448d-9823-35170af5b044",
      "metadata": {
        "id": "38dd63ed-e907-448d-9823-35170af5b044"
      },
      "source": [
        "# CS 640 - 2025 Fall - Homework 5\n",
        "\n",
        "In this homework, you will define a Markov decision process describing a cat moving on a 32 x 32 grid looking for a fish.\n",
        "This will extend last week's Markov reward process by giving the cat agency to seek out the fish."
      ]
    },
    {
      "cell_type": "markdown",
      "id": "637a0c24-418c-4c54-b118-81425eaf6c62",
      "metadata": {
        "id": "637a0c24-418c-4c54-b118-81425eaf6c62"
      },
      "source": [
        "## Instructions\n",
        "\n",
        "1. Follow the instructions below to construct and analyze the Markov decision process.\n",
        "2. Run all the cells so that all the check cells are updated.\n",
        "3. Answer the question at the bottom.\n",
        "4. Submit your notebook in Gradescope.\n"
      ]
    },
    {
      "cell_type": "code",
      "execution_count": 1,
      "id": "2fbd426f-1109-4673-808f-db0c556fadbf",
      "metadata": {
        "id": "2fbd426f-1109-4673-808f-db0c556fadbf"
      },
      "outputs": [],
      "source": [
        "import matplotlib.pyplot as plt\n",
        "import numpy as np\n",
        "import torch"
      ]
    },
    {
      "cell_type": "markdown",
      "id": "eded7a72-6bf9-4886-8d47-4c5f4174ff8a",
      "metadata": {
        "id": "eded7a72-6bf9-4886-8d47-4c5f4174ff8a"
      },
      "source": [
        "## State Descriptions\n",
        "\n",
        "You will construct a Markov decision problem based on the following specification (same as homework 4).\n",
        "1. The states are numbered from 0 to 1024 (inclusive).\n",
        "2. The state 1024 is a special done state.\n",
        "3. For state s from 0 to 1023, the state number encodes coordinates as follows.\n",
        "  * x = s % 32\n",
        "  * y = s / 32 (integer division)\n",
        "  * x and y represent the location of a cat in a 32x32 grid.\n",
        "4. At the state corresponding to x=16,y=16, there is a fish unless the cat is also there.\n",
        "\n",
        "The following function `print_state` will visualize the state."
      ]
    },
    {
      "cell_type": "code",
      "execution_count": 2,
      "id": "349edcee-6108-4613-b0ef-ac588132ddd6",
      "metadata": {
        "id": "349edcee-6108-4613-b0ef-ac588132ddd6",
        "colab": {
          "base_uri": "https://localhost:8080/"
        },
        "outputId": "06b3ee43-9400-47c7-f348-432c6cac61d1"
      },
      "outputs": [
        {
          "output_type": "stream",
          "name": "stdout",
          "text": [
            "STATE 0\n",
            "🐱🪨🪨🪨🪨🪨🪨🪨🪨🪨🪨🪨🪨🪨🪨🪨🪨🪨🪨🪨🪨🪨🪨🪨🪨🪨🪨🪨🪨🪨🪨🪨\n",
            "🪨🪨🪨🪨🪨🪨🪨🪨🪨🪨🪨🪨🪨🪨🪨🪨🪨🪨🪨🪨🪨🪨🪨🪨🪨🪨🪨🪨🪨🪨🪨🪨\n",
            "🪨🪨🪨🪨🪨🪨🪨🪨🪨🪨🪨🪨🪨🪨🪨🪨🪨🪨🪨🪨🪨🪨🪨🪨🪨🪨🪨🪨🪨🪨🪨🪨\n",
            "🪨🪨🪨🪨🪨🪨🪨🪨🪨🪨🪨🪨🪨🪨🪨🪨🪨🪨🪨🪨🪨🪨🪨🪨🪨🪨🪨🪨🪨🪨🪨🪨\n",
            "🪨🪨🪨🪨🪨🪨🪨🪨🪨🪨🪨🪨🪨🪨🪨🪨🪨🪨🪨🪨🪨🪨🪨🪨🪨🪨🪨🪨🪨🪨🪨🪨\n",
            "🪨🪨🪨🪨🪨🪨🪨🪨🪨🪨🪨🪨🪨🪨🪨🪨🪨🪨🪨🪨🪨🪨🪨🪨🪨🪨🪨🪨🪨🪨🪨🪨\n",
            "🪨🪨🪨🪨🪨🪨🪨🪨🪨🪨🪨🪨🪨🪨🪨🪨🪨🪨🪨🪨🪨🪨🪨🪨🪨🪨🪨🪨🪨🪨🪨🪨\n",
            "🪨🪨🪨🪨🪨🪨🪨🪨🪨🪨🪨🪨🪨🪨🪨🪨🪨🪨🪨🪨🪨🪨🪨🪨🪨🪨🪨🪨🪨🪨🪨🪨\n",
            "🪨🪨🪨🪨🪨🪨🪨🪨🪨🪨🪨🪨🪨🪨🪨🪨🪨🪨🪨🪨🪨🪨🪨🪨🪨🪨🪨🪨🪨🪨🪨🪨\n",
            "🪨🪨🪨🪨🪨🪨🪨🪨🪨🪨🪨🪨🪨🪨🪨🪨🪨🪨🪨🪨🪨🪨🪨🪨🪨🪨🪨🪨🪨🪨🪨🪨\n",
            "🪨🪨🪨🪨🪨🪨🪨🪨🪨🪨🪨🪨🪨🪨🪨🪨🪨🪨🪨🪨🪨🪨🪨🪨🪨🪨🪨🪨🪨🪨🪨🪨\n",
            "🪨🪨🪨🪨🪨🪨🪨🪨🪨🪨🪨🪨🪨🪨🪨🪨🪨🪨🪨🪨🪨🪨🪨🪨🪨🪨🪨🪨🪨🪨🪨🪨\n",
            "🪨🪨🪨🪨🪨🪨🪨🪨🪨🪨🪨🪨🪨🪨🪨🪨🪨🪨🪨🪨🪨🪨🪨🪨🪨🪨🪨🪨🪨🪨🪨🪨\n",
            "🪨🪨🪨🪨🪨🪨🪨🪨🪨🪨🪨🪨🪨🪨🪨🪨🪨🪨🪨🪨🪨🪨🪨🪨🪨🪨🪨🪨🪨🪨🪨🪨\n",
            "🪨🪨🪨🪨🪨🪨🪨🪨🪨🪨🪨🪨🪨🪨🪨🪨🪨🪨🪨🪨🪨🪨🪨🪨🪨🪨🪨🪨🪨🪨🪨🪨\n",
            "🪨🪨🪨🪨🪨🪨🪨🪨🪨🪨🪨🪨🪨🪨🪨🪨🪨🪨🪨🪨🪨🪨🪨🪨🪨🪨🪨🪨🪨🪨🪨🪨\n",
            "🪨🪨🪨🪨🪨🪨🪨🪨🪨🪨🪨🪨🪨🪨🪨🪨🐟🪨🪨🪨🪨🪨🪨🪨🪨🪨🪨🪨🪨🪨🪨🪨\n",
            "🪨🪨🪨🪨🪨🪨🪨🪨🪨🪨🪨🪨🪨🪨🪨🪨🪨🪨🪨🪨🪨🪨🪨🪨🪨🪨🪨🪨🪨🪨🪨🪨\n",
            "🪨🪨🪨🪨🪨🪨🪨🪨🪨🪨🪨🪨🪨🪨🪨🪨🪨🪨🪨🪨🪨🪨🪨🪨🪨🪨🪨🪨🪨🪨🪨🪨\n",
            "🪨🪨🪨🪨🪨🪨🪨🪨🪨🪨🪨🪨🪨🪨🪨🪨🪨🪨🪨🪨🪨🪨🪨🪨🪨🪨🪨🪨🪨🪨🪨🪨\n",
            "🪨🪨🪨🪨🪨🪨🪨🪨🪨🪨🪨🪨🪨🪨🪨🪨🪨🪨🪨🪨🪨🪨🪨🪨🪨🪨🪨🪨🪨🪨🪨🪨\n",
            "🪨🪨🪨🪨🪨🪨🪨🪨🪨🪨🪨🪨🪨🪨🪨🪨🪨🪨🪨🪨🪨🪨🪨🪨🪨🪨🪨🪨🪨🪨🪨🪨\n",
            "🪨🪨🪨🪨🪨🪨🪨🪨🪨🪨🪨🪨🪨🪨🪨🪨🪨🪨🪨🪨🪨🪨🪨🪨🪨🪨🪨🪨🪨🪨🪨🪨\n",
            "🪨🪨🪨🪨🪨🪨🪨🪨🪨🪨🪨🪨🪨🪨🪨🪨🪨🪨🪨🪨🪨🪨🪨🪨🪨🪨🪨🪨🪨🪨🪨🪨\n",
            "🪨🪨🪨🪨🪨🪨🪨🪨🪨🪨🪨🪨🪨🪨🪨🪨🪨🪨🪨🪨🪨🪨🪨🪨🪨🪨🪨🪨🪨🪨🪨🪨\n",
            "🪨🪨🪨🪨🪨🪨🪨🪨🪨🪨🪨🪨🪨🪨🪨🪨🪨🪨🪨🪨🪨🪨🪨🪨🪨🪨🪨🪨🪨🪨🪨🪨\n",
            "🪨🪨🪨🪨🪨🪨🪨🪨🪨🪨🪨🪨🪨🪨🪨🪨🪨🪨🪨🪨🪨🪨🪨🪨🪨🪨🪨🪨🪨🪨🪨🪨\n",
            "🪨🪨🪨🪨🪨🪨🪨🪨🪨🪨🪨🪨🪨🪨🪨🪨🪨🪨🪨🪨🪨🪨🪨🪨🪨🪨🪨🪨🪨🪨🪨🪨\n",
            "🪨🪨🪨🪨🪨🪨🪨🪨🪨🪨🪨🪨🪨🪨🪨🪨🪨🪨🪨🪨🪨🪨🪨🪨🪨🪨🪨🪨🪨🪨🪨🪨\n",
            "🪨🪨🪨🪨🪨🪨🪨🪨🪨🪨🪨🪨🪨🪨🪨🪨🪨🪨🪨🪨🪨🪨🪨🪨🪨🪨🪨🪨🪨🪨🪨🪨\n",
            "🪨🪨🪨🪨🪨🪨🪨🪨🪨🪨🪨🪨🪨🪨🪨🪨🪨🪨🪨🪨🪨🪨🪨🪨🪨🪨🪨🪨🪨🪨🪨🪨\n",
            "🪨🪨🪨🪨🪨🪨🪨🪨🪨🪨🪨🪨🪨🪨🪨🪨🪨🪨🪨🪨🪨🪨🪨🪨🪨🪨🪨🪨🪨🪨🪨🪨\n",
            "\n",
            "STATE 69\n",
            "🪨🪨🪨🪨🪨🪨🪨🪨🪨🪨🪨🪨🪨🪨🪨🪨🪨🪨🪨🪨🪨🪨🪨🪨🪨🪨🪨🪨🪨🪨🪨🪨\n",
            "🪨🪨🪨🪨🪨🪨🪨🪨🪨🪨🪨🪨🪨🪨🪨🪨🪨🪨🪨🪨🪨🪨🪨🪨🪨🪨🪨🪨🪨🪨🪨🪨\n",
            "🪨🪨🪨🪨🪨🐱🪨🪨🪨🪨🪨🪨🪨🪨🪨🪨🪨🪨🪨🪨🪨🪨🪨🪨🪨🪨🪨🪨🪨🪨🪨🪨\n",
            "🪨🪨🪨🪨🪨🪨🪨🪨🪨🪨🪨🪨🪨🪨🪨🪨🪨🪨🪨🪨🪨🪨🪨🪨🪨🪨🪨🪨🪨🪨🪨🪨\n",
            "🪨🪨🪨🪨🪨🪨🪨🪨🪨🪨🪨🪨🪨🪨🪨🪨🪨🪨🪨🪨🪨🪨🪨🪨🪨🪨🪨🪨🪨🪨🪨🪨\n",
            "🪨🪨🪨🪨🪨🪨🪨🪨🪨🪨🪨🪨🪨🪨🪨🪨🪨🪨🪨🪨🪨🪨🪨🪨🪨🪨🪨🪨🪨🪨🪨🪨\n",
            "🪨🪨🪨🪨🪨🪨🪨🪨🪨🪨🪨🪨🪨🪨🪨🪨🪨🪨🪨🪨🪨🪨🪨🪨🪨🪨🪨🪨🪨🪨🪨🪨\n",
            "🪨🪨🪨🪨🪨🪨🪨🪨🪨🪨🪨🪨🪨🪨🪨🪨🪨🪨🪨🪨🪨🪨🪨🪨🪨🪨🪨🪨🪨🪨🪨🪨\n",
            "🪨🪨🪨🪨🪨🪨🪨🪨🪨🪨🪨🪨🪨🪨🪨🪨🪨🪨🪨🪨🪨🪨🪨🪨🪨🪨🪨🪨🪨🪨🪨🪨\n",
            "🪨🪨🪨🪨🪨🪨🪨🪨🪨🪨🪨🪨🪨🪨🪨🪨🪨🪨🪨🪨🪨🪨🪨🪨🪨🪨🪨🪨🪨🪨🪨🪨\n",
            "🪨🪨🪨🪨🪨🪨🪨🪨🪨🪨🪨🪨🪨🪨🪨🪨🪨🪨🪨🪨🪨🪨🪨🪨🪨🪨🪨🪨🪨🪨🪨🪨\n",
            "🪨🪨🪨🪨🪨🪨🪨🪨🪨🪨🪨🪨🪨🪨🪨🪨🪨🪨🪨🪨🪨🪨🪨🪨🪨🪨🪨🪨🪨🪨🪨🪨\n",
            "🪨🪨🪨🪨🪨🪨🪨🪨🪨🪨🪨🪨🪨🪨🪨🪨🪨🪨🪨🪨🪨🪨🪨🪨🪨🪨🪨🪨🪨🪨🪨🪨\n",
            "🪨🪨🪨🪨🪨🪨🪨🪨🪨🪨🪨🪨🪨🪨🪨🪨🪨🪨🪨🪨🪨🪨🪨🪨🪨🪨🪨🪨🪨🪨🪨🪨\n",
            "🪨🪨🪨🪨🪨🪨🪨🪨🪨🪨🪨🪨🪨🪨🪨🪨🪨🪨🪨🪨🪨🪨🪨🪨🪨🪨🪨🪨🪨🪨🪨🪨\n",
            "🪨🪨🪨🪨🪨🪨🪨🪨🪨🪨🪨🪨🪨🪨🪨🪨🪨🪨🪨🪨🪨🪨🪨🪨🪨🪨🪨🪨🪨🪨🪨🪨\n",
            "🪨🪨🪨🪨🪨🪨🪨🪨🪨🪨🪨🪨🪨🪨🪨🪨🐟🪨🪨🪨🪨🪨🪨🪨🪨🪨🪨🪨🪨🪨🪨🪨\n",
            "🪨🪨🪨🪨🪨🪨🪨🪨🪨🪨🪨🪨🪨🪨🪨🪨🪨🪨🪨🪨🪨🪨🪨🪨🪨🪨🪨🪨🪨🪨🪨🪨\n",
            "🪨🪨🪨🪨🪨🪨🪨🪨🪨🪨🪨🪨🪨🪨🪨🪨🪨🪨🪨🪨🪨🪨🪨🪨🪨🪨🪨🪨🪨🪨🪨🪨\n",
            "🪨🪨🪨🪨🪨🪨🪨🪨🪨🪨🪨🪨🪨🪨🪨🪨🪨🪨🪨🪨🪨🪨🪨🪨🪨🪨🪨🪨🪨🪨🪨🪨\n",
            "🪨🪨🪨🪨🪨🪨🪨🪨🪨🪨🪨🪨🪨🪨🪨🪨🪨🪨🪨🪨🪨🪨🪨🪨🪨🪨🪨🪨🪨🪨🪨🪨\n",
            "🪨🪨🪨🪨🪨🪨🪨🪨🪨🪨🪨🪨🪨🪨🪨🪨🪨🪨🪨🪨🪨🪨🪨🪨🪨🪨🪨🪨🪨🪨🪨🪨\n",
            "🪨🪨🪨🪨🪨🪨🪨🪨🪨🪨🪨🪨🪨🪨🪨🪨🪨🪨🪨🪨🪨🪨🪨🪨🪨🪨🪨🪨🪨🪨🪨🪨\n",
            "🪨🪨🪨🪨🪨🪨🪨🪨🪨🪨🪨🪨🪨🪨🪨🪨🪨🪨🪨🪨🪨🪨🪨🪨🪨🪨🪨🪨🪨🪨🪨🪨\n",
            "🪨🪨🪨🪨🪨🪨🪨🪨🪨🪨🪨🪨🪨🪨🪨🪨🪨🪨🪨🪨🪨🪨🪨🪨🪨🪨🪨🪨🪨🪨🪨🪨\n",
            "🪨🪨🪨🪨🪨🪨🪨🪨🪨🪨🪨🪨🪨🪨🪨🪨🪨🪨🪨🪨🪨🪨🪨🪨🪨🪨🪨🪨🪨🪨🪨🪨\n",
            "🪨🪨🪨🪨🪨🪨🪨🪨🪨🪨🪨🪨🪨🪨🪨🪨🪨🪨🪨🪨🪨🪨🪨🪨🪨🪨🪨🪨🪨🪨🪨🪨\n",
            "🪨🪨🪨🪨🪨🪨🪨🪨🪨🪨🪨🪨🪨🪨🪨🪨🪨🪨🪨🪨🪨🪨🪨🪨🪨🪨🪨🪨🪨🪨🪨🪨\n",
            "🪨🪨🪨🪨🪨🪨🪨🪨🪨🪨🪨🪨🪨🪨🪨🪨🪨🪨🪨🪨🪨🪨🪨🪨🪨🪨🪨🪨🪨🪨🪨🪨\n",
            "🪨🪨🪨🪨🪨🪨🪨🪨🪨🪨🪨🪨🪨🪨🪨🪨🪨🪨🪨🪨🪨🪨🪨🪨🪨🪨🪨🪨🪨🪨🪨🪨\n",
            "🪨🪨🪨🪨🪨🪨🪨🪨🪨🪨🪨🪨🪨🪨🪨🪨🪨🪨🪨🪨🪨🪨🪨🪨🪨🪨🪨🪨🪨🪨🪨🪨\n",
            "🪨🪨🪨🪨🪨🪨🪨🪨🪨🪨🪨🪨🪨🪨🪨🪨🪨🪨🪨🪨🪨🪨🪨🪨🪨🪨🪨🪨🪨🪨🪨🪨\n",
            "\n",
            "STATE 528\n",
            "🪨🪨🪨🪨🪨🪨🪨🪨🪨🪨🪨🪨🪨🪨🪨🪨🪨🪨🪨🪨🪨🪨🪨🪨🪨🪨🪨🪨🪨🪨🪨🪨\n",
            "🪨🪨🪨🪨🪨🪨🪨🪨🪨🪨🪨🪨🪨🪨🪨🪨🪨🪨🪨🪨🪨🪨🪨🪨🪨🪨🪨🪨🪨🪨🪨🪨\n",
            "🪨🪨🪨🪨🪨🪨🪨🪨🪨🪨🪨🪨🪨🪨🪨🪨🪨🪨🪨🪨🪨🪨🪨🪨🪨🪨🪨🪨🪨🪨🪨🪨\n",
            "🪨🪨🪨🪨🪨🪨🪨🪨🪨🪨🪨🪨🪨🪨🪨🪨🪨🪨🪨🪨🪨🪨🪨🪨🪨🪨🪨🪨🪨🪨🪨🪨\n",
            "🪨🪨🪨🪨🪨🪨🪨🪨🪨🪨🪨🪨🪨🪨🪨🪨🪨🪨🪨🪨🪨🪨🪨🪨🪨🪨🪨🪨🪨🪨🪨🪨\n",
            "🪨🪨🪨🪨🪨🪨🪨🪨🪨🪨🪨🪨🪨🪨🪨🪨🪨🪨🪨🪨🪨🪨🪨🪨🪨🪨🪨🪨🪨🪨🪨🪨\n",
            "🪨🪨🪨🪨🪨🪨🪨🪨🪨🪨🪨🪨🪨🪨🪨🪨🪨🪨🪨🪨🪨🪨🪨🪨🪨🪨🪨🪨🪨🪨🪨🪨\n",
            "🪨🪨🪨🪨🪨🪨🪨🪨🪨🪨🪨🪨🪨🪨🪨🪨🪨🪨🪨🪨🪨🪨🪨🪨🪨🪨🪨🪨🪨🪨🪨🪨\n",
            "🪨🪨🪨🪨🪨🪨🪨🪨🪨🪨🪨🪨🪨🪨🪨🪨🪨🪨🪨🪨🪨🪨🪨🪨🪨🪨🪨🪨🪨🪨🪨🪨\n",
            "🪨🪨🪨🪨🪨🪨🪨🪨🪨🪨🪨🪨🪨🪨🪨🪨🪨🪨🪨🪨🪨🪨🪨🪨🪨🪨🪨🪨🪨🪨🪨🪨\n",
            "🪨🪨🪨🪨🪨🪨🪨🪨🪨🪨🪨🪨🪨🪨🪨🪨🪨🪨🪨🪨🪨🪨🪨🪨🪨🪨🪨🪨🪨🪨🪨🪨\n",
            "🪨🪨🪨🪨🪨🪨🪨🪨🪨🪨🪨🪨🪨🪨🪨🪨🪨🪨🪨🪨🪨🪨🪨🪨🪨🪨🪨🪨🪨🪨🪨🪨\n",
            "🪨🪨🪨🪨🪨🪨🪨🪨🪨🪨🪨🪨🪨🪨🪨🪨🪨🪨🪨🪨🪨🪨🪨🪨🪨🪨🪨🪨🪨🪨🪨🪨\n",
            "🪨🪨🪨🪨🪨🪨🪨🪨🪨🪨🪨🪨🪨🪨🪨🪨🪨🪨🪨🪨🪨🪨🪨🪨🪨🪨🪨🪨🪨🪨🪨🪨\n",
            "🪨🪨🪨🪨🪨🪨🪨🪨🪨🪨🪨🪨🪨🪨🪨🪨🪨🪨🪨🪨🪨🪨🪨🪨🪨🪨🪨🪨🪨🪨🪨🪨\n",
            "🪨🪨🪨🪨🪨🪨🪨🪨🪨🪨🪨🪨🪨🪨🪨🪨🪨🪨🪨🪨🪨🪨🪨🪨🪨🪨🪨🪨🪨🪨🪨🪨\n",
            "🪨🪨🪨🪨🪨🪨🪨🪨🪨🪨🪨🪨🪨🪨🪨🪨🐱🪨🪨🪨🪨🪨🪨🪨🪨🪨🪨🪨🪨🪨🪨🪨\n",
            "🪨🪨🪨🪨🪨🪨🪨🪨🪨🪨🪨🪨🪨🪨🪨🪨🪨🪨🪨🪨🪨🪨🪨🪨🪨🪨🪨🪨🪨🪨🪨🪨\n",
            "🪨🪨🪨🪨🪨🪨🪨🪨🪨🪨🪨🪨🪨🪨🪨🪨🪨🪨🪨🪨🪨🪨🪨🪨🪨🪨🪨🪨🪨🪨🪨🪨\n",
            "🪨🪨🪨🪨🪨🪨🪨🪨🪨🪨🪨🪨🪨🪨🪨🪨🪨🪨🪨🪨🪨🪨🪨🪨🪨🪨🪨🪨🪨🪨🪨🪨\n",
            "🪨🪨🪨🪨🪨🪨🪨🪨🪨🪨🪨🪨🪨🪨🪨🪨🪨🪨🪨🪨🪨🪨🪨🪨🪨🪨🪨🪨🪨🪨🪨🪨\n",
            "🪨🪨🪨🪨🪨🪨🪨🪨🪨🪨🪨🪨🪨🪨🪨🪨🪨🪨🪨🪨🪨🪨🪨🪨🪨🪨🪨🪨🪨🪨🪨🪨\n",
            "🪨🪨🪨🪨🪨🪨🪨🪨🪨🪨🪨🪨🪨🪨🪨🪨🪨🪨🪨🪨🪨🪨🪨🪨🪨🪨🪨🪨🪨🪨🪨🪨\n",
            "🪨🪨🪨🪨🪨🪨🪨🪨🪨🪨🪨🪨🪨🪨🪨🪨🪨🪨🪨🪨🪨🪨🪨🪨🪨🪨🪨🪨🪨🪨🪨🪨\n",
            "🪨🪨🪨🪨🪨🪨🪨🪨🪨🪨🪨🪨🪨🪨🪨🪨🪨🪨🪨🪨🪨🪨🪨🪨🪨🪨🪨🪨🪨🪨🪨🪨\n",
            "🪨🪨🪨🪨🪨🪨🪨🪨🪨🪨🪨🪨🪨🪨🪨🪨🪨🪨🪨🪨🪨🪨🪨🪨🪨🪨🪨🪨🪨🪨🪨🪨\n",
            "🪨🪨🪨🪨🪨🪨🪨🪨🪨🪨🪨🪨🪨🪨🪨🪨🪨🪨🪨🪨🪨🪨🪨🪨🪨🪨🪨🪨🪨🪨🪨🪨\n",
            "🪨🪨🪨🪨🪨🪨🪨🪨🪨🪨🪨🪨🪨🪨🪨🪨🪨🪨🪨🪨🪨🪨🪨🪨🪨🪨🪨🪨🪨🪨🪨🪨\n",
            "🪨🪨🪨🪨🪨🪨🪨🪨🪨🪨🪨🪨🪨🪨🪨🪨🪨🪨🪨🪨🪨🪨🪨🪨🪨🪨🪨🪨🪨🪨🪨🪨\n",
            "🪨🪨🪨🪨🪨🪨🪨🪨🪨🪨🪨🪨🪨🪨🪨🪨🪨🪨🪨🪨🪨🪨🪨🪨🪨🪨🪨🪨🪨🪨🪨🪨\n",
            "🪨🪨🪨🪨🪨🪨🪨🪨🪨🪨🪨🪨🪨🪨🪨🪨🪨🪨🪨🪨🪨🪨🪨🪨🪨🪨🪨🪨🪨🪨🪨🪨\n",
            "🪨🪨🪨🪨🪨🪨🪨🪨🪨🪨🪨🪨🪨🪨🪨🪨🪨🪨🪨🪨🪨🪨🪨🪨🪨🪨🪨🪨🪨🪨🪨🪨\n",
            "\n",
            "STATE 1023\n",
            "🪨🪨🪨🪨🪨🪨🪨🪨🪨🪨🪨🪨🪨🪨🪨🪨🪨🪨🪨🪨🪨🪨🪨🪨🪨🪨🪨🪨🪨🪨🪨🪨\n",
            "🪨🪨🪨🪨🪨🪨🪨🪨🪨🪨🪨🪨🪨🪨🪨🪨🪨🪨🪨🪨🪨🪨🪨🪨🪨🪨🪨🪨🪨🪨🪨🪨\n",
            "🪨🪨🪨🪨🪨🪨🪨🪨🪨🪨🪨🪨🪨🪨🪨🪨🪨🪨🪨🪨🪨🪨🪨🪨🪨🪨🪨🪨🪨🪨🪨🪨\n",
            "🪨🪨🪨🪨🪨🪨🪨🪨🪨🪨🪨🪨🪨🪨🪨🪨🪨🪨🪨🪨🪨🪨🪨🪨🪨🪨🪨🪨🪨🪨🪨🪨\n",
            "🪨🪨🪨🪨🪨🪨🪨🪨🪨🪨🪨🪨🪨🪨🪨🪨🪨🪨🪨🪨🪨🪨🪨🪨🪨🪨🪨🪨🪨🪨🪨🪨\n",
            "🪨🪨🪨🪨🪨🪨🪨🪨🪨🪨🪨🪨🪨🪨🪨🪨🪨🪨🪨🪨🪨🪨🪨🪨🪨🪨🪨🪨🪨🪨🪨🪨\n",
            "🪨🪨🪨🪨🪨🪨🪨🪨🪨🪨🪨🪨🪨🪨🪨🪨🪨🪨🪨🪨🪨🪨🪨🪨🪨🪨🪨🪨🪨🪨🪨🪨\n",
            "🪨🪨🪨🪨🪨🪨🪨🪨🪨🪨🪨🪨🪨🪨🪨🪨🪨🪨🪨🪨🪨🪨🪨🪨🪨🪨🪨🪨🪨🪨🪨🪨\n",
            "🪨🪨🪨🪨🪨🪨🪨🪨🪨🪨🪨🪨🪨🪨🪨🪨🪨🪨🪨🪨🪨🪨🪨🪨🪨🪨🪨🪨🪨🪨🪨🪨\n",
            "🪨🪨🪨🪨🪨🪨🪨🪨🪨🪨🪨🪨🪨🪨🪨🪨🪨🪨🪨🪨🪨🪨🪨🪨🪨🪨🪨🪨🪨🪨🪨🪨\n",
            "🪨🪨🪨🪨🪨🪨🪨🪨🪨🪨🪨🪨🪨🪨🪨🪨🪨🪨🪨🪨🪨🪨🪨🪨🪨🪨🪨🪨🪨🪨🪨🪨\n",
            "🪨🪨🪨🪨🪨🪨🪨🪨🪨🪨🪨🪨🪨🪨🪨🪨🪨🪨🪨🪨🪨🪨🪨🪨🪨🪨🪨🪨🪨🪨🪨🪨\n",
            "🪨🪨🪨🪨🪨🪨🪨🪨🪨🪨🪨🪨🪨🪨🪨🪨🪨🪨🪨🪨🪨🪨🪨🪨🪨🪨🪨🪨🪨🪨🪨🪨\n",
            "🪨🪨🪨🪨🪨🪨🪨🪨🪨🪨🪨🪨🪨🪨🪨🪨🪨🪨🪨🪨🪨🪨🪨🪨🪨🪨🪨🪨🪨🪨🪨🪨\n",
            "🪨🪨🪨🪨🪨🪨🪨🪨🪨🪨🪨🪨🪨🪨🪨🪨🪨🪨🪨🪨🪨🪨🪨🪨🪨🪨🪨🪨🪨🪨🪨🪨\n",
            "🪨🪨🪨🪨🪨🪨🪨🪨🪨🪨🪨🪨🪨🪨🪨🪨🪨🪨🪨🪨🪨🪨🪨🪨🪨🪨🪨🪨🪨🪨🪨🪨\n",
            "🪨🪨🪨🪨🪨🪨🪨🪨🪨🪨🪨🪨🪨🪨🪨🪨🐟🪨🪨🪨🪨🪨🪨🪨🪨🪨🪨🪨🪨🪨🪨🪨\n",
            "🪨🪨🪨🪨🪨🪨🪨🪨🪨🪨🪨🪨🪨🪨🪨🪨🪨🪨🪨🪨🪨🪨🪨🪨🪨🪨🪨🪨🪨🪨🪨🪨\n",
            "🪨🪨🪨🪨🪨🪨🪨🪨🪨🪨🪨🪨🪨🪨🪨🪨🪨🪨🪨🪨🪨🪨🪨🪨🪨🪨🪨🪨🪨🪨🪨🪨\n",
            "🪨🪨🪨🪨🪨🪨🪨🪨🪨🪨🪨🪨🪨🪨🪨🪨🪨🪨🪨🪨🪨🪨🪨🪨🪨🪨🪨🪨🪨🪨🪨🪨\n",
            "🪨🪨🪨🪨🪨🪨🪨🪨🪨🪨🪨🪨🪨🪨🪨🪨🪨🪨🪨🪨🪨🪨🪨🪨🪨🪨🪨🪨🪨🪨🪨🪨\n",
            "🪨🪨🪨🪨🪨🪨🪨🪨🪨🪨🪨🪨🪨🪨🪨🪨🪨🪨🪨🪨🪨🪨🪨🪨🪨🪨🪨🪨🪨🪨🪨🪨\n",
            "🪨🪨🪨🪨🪨🪨🪨🪨🪨🪨🪨🪨🪨🪨🪨🪨🪨🪨🪨🪨🪨🪨🪨🪨🪨🪨🪨🪨🪨🪨🪨🪨\n",
            "🪨🪨🪨🪨🪨🪨🪨🪨🪨🪨🪨🪨🪨🪨🪨🪨🪨🪨🪨🪨🪨🪨🪨🪨🪨🪨🪨🪨🪨🪨🪨🪨\n",
            "🪨🪨🪨🪨🪨🪨🪨🪨🪨🪨🪨🪨🪨🪨🪨🪨🪨🪨🪨🪨🪨🪨🪨🪨🪨🪨🪨🪨🪨🪨🪨🪨\n",
            "🪨🪨🪨🪨🪨🪨🪨🪨🪨🪨🪨🪨🪨🪨🪨🪨🪨🪨🪨🪨🪨🪨🪨🪨🪨🪨🪨🪨🪨🪨🪨🪨\n",
            "🪨🪨🪨🪨🪨🪨🪨🪨🪨🪨🪨🪨🪨🪨🪨🪨🪨🪨🪨🪨🪨🪨🪨🪨🪨🪨🪨🪨🪨🪨🪨🪨\n",
            "🪨🪨🪨🪨🪨🪨🪨🪨🪨🪨🪨🪨🪨🪨🪨🪨🪨🪨🪨🪨🪨🪨🪨🪨🪨🪨🪨🪨🪨🪨🪨🪨\n",
            "🪨🪨🪨🪨🪨🪨🪨🪨🪨🪨🪨🪨🪨🪨🪨🪨🪨🪨🪨🪨🪨🪨🪨🪨🪨🪨🪨🪨🪨🪨🪨🪨\n",
            "🪨🪨🪨🪨🪨🪨🪨🪨🪨🪨🪨🪨🪨🪨🪨🪨🪨🪨🪨🪨🪨🪨🪨🪨🪨🪨🪨🪨🪨🪨🪨🪨\n",
            "🪨🪨🪨🪨🪨🪨🪨🪨🪨🪨🪨🪨🪨🪨🪨🪨🪨🪨🪨🪨🪨🪨🪨🪨🪨🪨🪨🪨🪨🪨🪨🪨\n",
            "🪨🪨🪨🪨🪨🪨🪨🪨🪨🪨🪨🪨🪨🪨🪨🪨🪨🪨🪨🪨🪨🪨🪨🪨🪨🪨🪨🪨🪨🪨🪨🐱\n",
            "\n",
            "STATE 1024\n",
            "DONE\n",
            "\n"
          ]
        }
      ],
      "source": [
        "def print_state(s):\n",
        "    assert 0 <= s <= 1024\n",
        "\n",
        "    print(\"STATE\", s)\n",
        "\n",
        "    if s < 1024:\n",
        "        # normal state indicating y, x coordinates\n",
        "        output = ['🪨' for _ in range(1024)]\n",
        "        output[16*32+16] = '🐟'\n",
        "        output[s] = '🐱'\n",
        "        for i in range(0, 1024, 32):\n",
        "            print(''.join(output[i:i+32]))\n",
        "    else:\n",
        "        print(\"DONE\")\n",
        "\n",
        "    print(\"\")\n",
        "\n",
        "for s in (0, 2 * 32 + 5, 16*32+16, 1023, 1024):\n",
        "    print_state(s)"
      ]
    },
    {
      "cell_type": "markdown",
      "source": [
        "## Actions\n",
        "\n",
        "In any state, the cat will have 4 possible actions.\n",
        "1. Up. The cat tries to change its $y$ coordinate by -1.\n",
        "2. Down. The cat tries to change its $y$ coordinate by +1.\n",
        "3. Left. The cat tries to change its $x$ coordinate by -1.\n",
        "4. Right. The cat tries to change its $x$ coordinate by +1.\n",
        "\n",
        "If the up/down descriptions do not make sense, consider that the first row when printing corresponds to $y=0$ and the last row printed corresponds to $y=31$."
      ],
      "metadata": {
        "id": "66Dp_VsNlkYH"
      },
      "id": "66Dp_VsNlkYH"
    },
    {
      "cell_type": "markdown",
      "id": "521853b7-9d62-4cef-b0e9-fc6385cee5ed",
      "metadata": {
        "id": "521853b7-9d62-4cef-b0e9-fc6385cee5ed"
      },
      "source": [
        "## State Transitions\n",
        "\n",
        "For each action $a$, construct a transition matrix $P_a$ based on the following rules.\n",
        "\n",
        "1. $P_a$ should be 1025x1025.\n",
        "2. $P_a[i,j]$ should hold the probability of transitioning from state i to j in one step.\n",
        "3. If the state is 1024 (the done state), the state stays the same with probability 1.\n",
        "4. If the state is 528 (cat is on the fish), the state changes to 1024 with probability 1.\n",
        "5. If the action $a$ corresponds to moving off the grid, then the state stays the same with probability 1.\n",
        "6. Otherwise, for any other state $s$,\n",
        "    * For any state $s'$ representing locations that are adjacent horizontally or vertically besides the state that the cat intends to reach, there is a 5% of transitioning from $s$ to $s'$.\n",
        "    * The state to which the cat intends to move has the remaining probability (this should be 0.85, 0.90 or 0.95).\n",
        "    * The probability of transitioning to a state representing a non-adjacent location is zero.\n"
      ]
    },
    {
      "cell_type": "code",
      "execution_count": 3,
      "id": "6c1d8cea-cdac-4e5c-85a4-3b44fe3a4db2",
      "metadata": {
        "id": "6c1d8cea-cdac-4e5c-85a4-3b44fe3a4db2"
      },
      "outputs": [],
      "source": [
        "# YOUR CHANGES HERE\n",
        "\n",
        "def get_coords(s):\n",
        "    if s == 1024:\n",
        "        return -1, -1  # Indicates the done state\n",
        "    x = s % 32\n",
        "    y = s // 32\n",
        "    return x, y\n",
        "\n",
        "def get_state(x, y):\n",
        "    if 0 <= x < 32 and 0 <= y < 32:\n",
        "        return y * 32 + x\n",
        "    return -1 # Indicates out of bounds\n",
        "\n",
        "N_STATES = 1025\n",
        "P = {}\n",
        "\n",
        "actions = [\"up\", \"down\", \"left\", \"right\"]\n",
        "\n",
        "for action in actions:\n",
        "    P[action] = np.zeros((N_STATES, N_STATES))\n",
        "\n",
        "    for s in range(N_STATES):\n",
        "        if s == 1024:  # Done state\n",
        "            P[action][s, s] = 1.0\n",
        "            continue\n",
        "        if s == 16 * 32 + 16:  # Cat on fish\n",
        "            P[action][s, 1024] = 1.0\n",
        "            continue\n",
        "\n",
        "        x, y = get_coords(s)\n",
        "        next_x, next_y = x, y\n",
        "\n",
        "        if action == \"up\":\n",
        "            next_y -= 1\n",
        "        elif action == \"down\":\n",
        "            next_y += 1\n",
        "        elif action == \"left\":\n",
        "            next_x -= 1\n",
        "        elif action == \"right\":\n",
        "            next_x += 1\n",
        "\n",
        "        next_state = get_state(next_x, next_y)\n",
        "\n",
        "        if next_state == -1:  # Move off the grid\n",
        "            P[action][s, s] = 1.0\n",
        "        else:\n",
        "            # Intended move\n",
        "            intended_state = next_state\n",
        "            P[action][s, intended_state] = 0.95\n",
        "\n",
        "            # Adjacent moves\n",
        "            adjacent_moves = []\n",
        "            # up\n",
        "            if action != \"down\":\n",
        "                adj_state = get_state(x, y - 1)\n",
        "                if adj_state != -1 and adj_state != intended_state:\n",
        "                    adjacent_moves.append(adj_state)\n",
        "            # down\n",
        "            if action != \"up\":\n",
        "                adj_state = get_state(x, y + 1)\n",
        "                if adj_state != -1 and adj_state != intended_state:\n",
        "                    adjacent_moves.append(adj_state)\n",
        "            # left\n",
        "            if action != \"right\":\n",
        "                adj_state = get_state(x - 1, y)\n",
        "                if adj_state != -1 and adj_state != intended_state:\n",
        "                     adjacent_moves.append(adj_state)\n",
        "            # right\n",
        "            if action != \"left\":\n",
        "                adj_state = get_state(x + 1, y)\n",
        "                if adj_state != -1 and adj_state != intended_state:\n",
        "                     adjacent_moves.append(adj_state)\n",
        "\n",
        "\n",
        "            prob_adjacent = 0.05 / len(adjacent_moves) if len(adjacent_moves) > 0 else 0\n",
        "            for adj_state in adjacent_moves:\n",
        "                P[action][s, adj_state] += prob_adjacent\n",
        "\n",
        "            # Adjust probability for intended state based on the number of adjacent moves\n",
        "            P[action][s, intended_state] = 1.0 - prob_adjacent * len(adjacent_moves)\n",
        "\n",
        "\n",
        "# Check transition probabilities sum to 1\n",
        "for action in actions:\n",
        "    for s in range(N_STATES):\n",
        "        assert abs(np.sum(P[action][s]) - 1.0) < 1e-9, f\"Probabilities do not sum to 1 for state {s} and action {action}\""
      ]
    },
    {
      "cell_type": "markdown",
      "id": "fd39a16b-804f-4aa7-b5e3-df73440da5c4",
      "metadata": {
        "id": "fd39a16b-804f-4aa7-b5e3-df73440da5c4"
      },
      "source": [
        "## State Rewards\n",
        "\n",
        "Construct a reward vector R based on the following rules.\n",
        "The reward does not depend on the action.\n",
        "\n",
        "1. R should be 1025x1.\n",
        "2. R[i] should hold the reward after state i.\n",
        "3. The reward after state 528 (cat is on fish) is 100.\n",
        "4. The reward for all other states is 0."
      ]
    },
    {
      "cell_type": "code",
      "execution_count": 4,
      "id": "8f883f4d-dd6d-4fac-a2da-734443e7aaf8",
      "metadata": {
        "id": "8f883f4d-dd6d-4fac-a2da-734443e7aaf8"
      },
      "outputs": [],
      "source": [
        "# YOUR CHANGES HERE\n",
        "\n",
        "R = np.zeros(N_STATES)\n",
        "R[16 * 32 + 16] = 100"
      ]
    },
    {
      "cell_type": "markdown",
      "id": "28cbbadb-b617-45b2-9193-373c20bcc76e",
      "metadata": {
        "id": "28cbbadb-b617-45b2-9193-373c20bcc76e"
      },
      "source": [
        "## Optimal State Values\n",
        "\n",
        "Use **value iteration** to compute the value function $v_*$ for each state using $\\gamma=0.9$ and save it in $v$."
      ]
    },
    {
      "cell_type": "code",
      "execution_count": 5,
      "id": "4bd520e0-2791-4153-9291-848248e6b833",
      "metadata": {
        "id": "4bd520e0-2791-4153-9291-848248e6b833"
      },
      "outputs": [],
      "source": [
        "# YOUR CHANGES HERE\n",
        "\n",
        "gamma = 0.9\n",
        "v = np.zeros(N_STATES)\n",
        "theta = 1e-6  # convergence threshold\n",
        "\n",
        "while True:\n",
        "    delta = 0\n",
        "    for s in range(N_STATES):\n",
        "        v_prev = v[s]\n",
        "        v_new = -float('inf')  # Initialize with negative infinity\n",
        "\n",
        "        if s == 1024:  # Done state\n",
        "            v_new = 0\n",
        "        else:\n",
        "            for action in actions:\n",
        "                q_sa = np.sum(P[action][s] * (R + gamma * v))\n",
        "                v_new = max(v_new, q_sa)\n",
        "\n",
        "        delta = max(delta, abs(v_prev - v_new))\n",
        "        v[s] = v_new\n",
        "\n",
        "    if delta < theta:\n",
        "        break\n",
        "\n",
        "v = v.tolist() # Convert back to list for consistency with previous cell output"
      ]
    },
    {
      "cell_type": "markdown",
      "id": "32ab1062-699c-4510-a779-ca77fcfbbdc2",
      "metadata": {
        "id": "32ab1062-699c-4510-a779-ca77fcfbbdc2"
      },
      "source": [
        "### Check $v_*$ values.\n",
        "\n",
        "Run these cells without changing their code."
      ]
    },
    {
      "cell_type": "code",
      "execution_count": 6,
      "id": "ae1e3b43-44f1-47da-a299-5a14ee7ce84c",
      "metadata": {
        "id": "ae1e3b43-44f1-47da-a299-5a14ee7ce84c",
        "colab": {
          "base_uri": "https://localhost:8080/"
        },
        "outputId": "f10619db-7b3f-4b68-9cbc-6dffd920b989"
      },
      "outputs": [
        {
          "output_type": "execute_result",
          "data": {
            "text/plain": [
              "0.0"
            ]
          },
          "metadata": {},
          "execution_count": 6
        }
      ],
      "source": [
        "# done state\n",
        "v[1024]"
      ]
    },
    {
      "cell_type": "code",
      "execution_count": 7,
      "id": "5f812386-714e-4986-9cc8-2963b05d8d72",
      "metadata": {
        "id": "5f812386-714e-4986-9cc8-2963b05d8d72",
        "colab": {
          "base_uri": "https://localhost:8080/"
        },
        "outputId": "f3bb7d2b-7e52-420d-c523-e9818a34cdff"
      },
      "outputs": [
        {
          "output_type": "execute_result",
          "data": {
            "text/plain": [
              "0.0"
            ]
          },
          "metadata": {},
          "execution_count": 7
        }
      ],
      "source": [
        "# cat arrived at fish\n",
        "v[528]"
      ]
    },
    {
      "cell_type": "code",
      "execution_count": 8,
      "id": "e485e356-143e-45a0-8d0d-2c4b5a6eaa33",
      "metadata": {
        "id": "e485e356-143e-45a0-8d0d-2c4b5a6eaa33",
        "colab": {
          "base_uri": "https://localhost:8080/"
        },
        "outputId": "991ecb9d-c3db-494b-f88d-43b93b7d2ce5"
      },
      "outputs": [
        {
          "output_type": "execute_result",
          "data": {
            "text/plain": [
              "98.98920766801504"
            ]
          },
          "metadata": {},
          "execution_count": 8
        }
      ],
      "source": [
        "# cat next to fish\n",
        "v[529]"
      ]
    },
    {
      "cell_type": "code",
      "execution_count": 9,
      "id": "c14d3d71-fb46-48d9-9711-7de1ff37971d",
      "metadata": {
        "id": "c14d3d71-fb46-48d9-9711-7de1ff37971d",
        "colab": {
          "base_uri": "https://localhost:8080/"
        },
        "outputId": "304e57a8-5df4-4dca-dd83-9ff8a1d1838b"
      },
      "outputs": [
        {
          "output_type": "execute_result",
          "data": {
            "text/plain": [
              "88.20783167723235"
            ]
          },
          "metadata": {},
          "execution_count": 9
        }
      ],
      "source": [
        "# cat farther from fish\n",
        "v[530]"
      ]
    },
    {
      "cell_type": "markdown",
      "source": [
        "## Visualize $v_*$.\n",
        "\n",
        "Run this cell without changing its code."
      ],
      "metadata": {
        "id": "0k5CknPMwKZt"
      },
      "id": "0k5CknPMwKZt"
    },
    {
      "cell_type": "code",
      "source": [
        "plt.imshow(np.asarray(v)[:1024].reshape(32, 32));"
      ],
      "metadata": {
        "id": "Z6YPDv5ywJpH",
        "colab": {
          "base_uri": "https://localhost:8080/",
          "height": 430
        },
        "outputId": "bf2da9a8-8c6d-4ac3-8a98-3d1694544730"
      },
      "id": "Z6YPDv5ywJpH",
      "execution_count": 10,
      "outputs": [
        {
          "output_type": "display_data",
          "data": {
            "text/plain": [
              "<Figure size 640x480 with 1 Axes>"
            ],
            "image/png": "[encoded data removed]"
          },
          "metadata": {}
        }
      ]
    },
    {
      "cell_type": "markdown",
      "source": [
        "## Optimal State-Action Values\n",
        "\n",
        "Use **q-learning** to compute the state-action value function $q_*$ using $\\gamma$ and save it in `q`.\n",
        "`q` should be constructed so that `q[s][a]` returns the value $q_*(s,a)$ where $s$ is an integer from 0 to 1024 (inclusive) and $a$ is one of the strings \"up\", \"down\", \"left\" or \"right\"."
      ],
      "metadata": {
        "id": "K-KmwoZGpJP9"
      },
      "id": "K-KmwoZGpJP9"
    },
    {
      "cell_type": "code",
      "source": [
        "# YOUR CHANGES HERE\n",
        "\n",
        "q = {}\n",
        "for s in range(N_STATES):\n",
        "    q[s] = {}\n",
        "    if s == 1024: # Done state\n",
        "        for action in actions:\n",
        "            q[s][action] = 0.0\n",
        "    else:\n",
        "        for action in actions:\n",
        "            q[s][action] = np.sum(P[action][s] * (R + gamma * np.array(v)))"
      ],
      "metadata": {
        "id": "AqEaAh7np1Uo"
      },
      "id": "AqEaAh7np1Uo",
      "execution_count": 11,
      "outputs": []
    },
    {
      "cell_type": "markdown",
      "source": [
        "### Check $q_*$ values.\n",
        "\n",
        "Run these cells without changing their code."
      ],
      "metadata": {
        "id": "FQyZl0sxqFSY"
      },
      "id": "FQyZl0sxqFSY"
    },
    {
      "cell_type": "code",
      "source": [
        "# done state\n",
        "\n",
        "(q[1024][\"up\"], q[1024][\"down\"], q[1024][\"left\"], q[1024][\"right\"])"
      ],
      "metadata": {
        "id": "yE2oswmZqEUD",
        "colab": {
          "base_uri": "https://localhost:8080/"
        },
        "outputId": "d58c5ca3-a410-478c-8280-40d18ae6f010"
      },
      "id": "yE2oswmZqEUD",
      "execution_count": 12,
      "outputs": [
        {
          "output_type": "execute_result",
          "data": {
            "text/plain": [
              "(0.0, 0.0, 0.0, 0.0)"
            ]
          },
          "metadata": {},
          "execution_count": 12
        }
      ]
    },
    {
      "cell_type": "code",
      "source": [
        "# cat arrived at fish\n",
        "\n",
        "(q[528][\"up\"], q[528][\"down\"], q[528][\"left\"], q[528][\"right\"])"
      ],
      "metadata": {
        "id": "0YHBcMe0sAwW",
        "colab": {
          "base_uri": "https://localhost:8080/"
        },
        "outputId": "95d26409-b260-43f5-9ee2-b210a7cef35d"
      },
      "id": "0YHBcMe0sAwW",
      "execution_count": 13,
      "outputs": [
        {
          "output_type": "execute_result",
          "data": {
            "text/plain": [
              "(np.float64(0.0), np.float64(0.0), np.float64(0.0), np.float64(0.0))"
            ]
          },
          "metadata": {},
          "execution_count": 13
        }
      ]
    },
    {
      "cell_type": "code",
      "source": [
        "# cat next to fish\n",
        "\n",
        "(q[529][\"up\"], q[529][\"down\"], q[529][\"left\"], q[529][\"right\"])"
      ],
      "metadata": {
        "id": "WDDlSrdXsIUV",
        "colab": {
          "base_uri": "https://localhost:8080/"
        },
        "outputId": "864f7e4d-530e-4790-be33-dd3d18c68bc5"
      },
      "id": "WDDlSrdXsIUV",
      "execution_count": 14,
      "outputs": [
        {
          "output_type": "execute_result",
          "data": {
            "text/plain": [
              "(np.float64(80.27962190502333),\n",
              " np.float64(80.27962190502333),\n",
              " np.float64(98.98920766801504),\n",
              " np.float64(79.40690375204869))"
            ]
          },
          "metadata": {},
          "execution_count": 14
        }
      ]
    },
    {
      "cell_type": "code",
      "source": [
        "# cat farther from fish\n",
        "\n",
        "(q[530][\"up\"], q[530][\"down\"], q[530][\"left\"], q[530][\"right\"])"
      ],
      "metadata": {
        "id": "r8I97p71sKzm",
        "colab": {
          "base_uri": "https://localhost:8080/"
        },
        "outputId": "bc79f9d1-e575-4d3f-b96b-f769cbe82115"
      },
      "id": "r8I97p71sKzm",
      "execution_count": 15,
      "outputs": [
        {
          "output_type": "execute_result",
          "data": {
            "text/plain": [
              "(np.float64(71.86523738297623),\n",
              " np.float64(71.86523738297623),\n",
              " np.float64(88.20783167723235),\n",
              " np.float64(70.78862169862722))"
            ]
          },
          "metadata": {},
          "execution_count": 15
        }
      ]
    },
    {
      "cell_type": "markdown",
      "source": [
        "## Extract Optimal Policy from $q_*$.\n",
        "\n",
        "Construct an optimal policy based on $q_*$.\n",
        "Save it in a variable `pi`"
      ],
      "metadata": {
        "id": "jbKGcW-uqVnQ"
      },
      "id": "jbKGcW-uqVnQ"
    },
    {
      "cell_type": "code",
      "source": [
        "# YOUR CHANGES HERE\n",
        "\n",
        "pi = []\n",
        "for s in range(N_STATES):\n",
        "    if s == 1024: # Done state\n",
        "        pi.append(\"done\") # or any other indicator for the done state\n",
        "    else:\n",
        "        best_action = None\n",
        "        max_q = -float('inf')\n",
        "        for action in actions:\n",
        "            if q[s][action] > max_q:\n",
        "                max_q = q[s][action]\n",
        "                best_action = action\n",
        "        pi.append(best_action)"
      ],
      "metadata": {
        "id": "GXHahx27rlZ9"
      },
      "id": "GXHahx27rlZ9",
      "execution_count": 22,
      "outputs": []
    },
    {
      "cell_type": "markdown",
      "source": [
        "### Check $\\pi$ values\n",
        "\n",
        "Run these cells without changing their code."
      ],
      "metadata": {
        "id": "F9Z-pp7qrkwb"
      },
      "id": "F9Z-pp7qrkwb"
    },
    {
      "cell_type": "code",
      "source": [
        "# done state\n",
        "pi[1024]"
      ],
      "metadata": {
        "id": "HqoY-cqHrs6Y",
        "colab": {
          "base_uri": "https://localhost:8080/",
          "height": 35
        },
        "outputId": "156f151f-3ea6-4621-a8ea-b68af85b8279"
      },
      "id": "HqoY-cqHrs6Y",
      "execution_count": 23,
      "outputs": [
        {
          "output_type": "execute_result",
          "data": {
            "text/plain": [
              "'done'"
            ],
            "application/vnd.google.colaboratory.intrinsic+json": {
              "type": "string"
            }
          },
          "metadata": {},
          "execution_count": 23
        }
      ]
    },
    {
      "cell_type": "code",
      "source": [
        "# cat arrived at fish\n",
        "pi[528]"
      ],
      "metadata": {
        "id": "jcm2WHx7sUfO",
        "colab": {
          "base_uri": "https://localhost:8080/",
          "height": 35
        },
        "outputId": "c0688663-91b2-4a52-e959-fae41fc6242d"
      },
      "id": "jcm2WHx7sUfO",
      "execution_count": 24,
      "outputs": [
        {
          "output_type": "execute_result",
          "data": {
            "text/plain": [
              "'up'"
            ],
            "application/vnd.google.colaboratory.intrinsic+json": {
              "type": "string"
            }
          },
          "metadata": {},
          "execution_count": 24
        }
      ]
    },
    {
      "cell_type": "code",
      "source": [
        "# cat next to fish\n",
        "pi[529]"
      ],
      "metadata": {
        "id": "ENsK3V2UsWvH",
        "colab": {
          "base_uri": "https://localhost:8080/",
          "height": 35
        },
        "outputId": "241ba68d-39e5-4d87-9c5f-906a9ca334ce"
      },
      "id": "ENsK3V2UsWvH",
      "execution_count": 25,
      "outputs": [
        {
          "output_type": "execute_result",
          "data": {
            "text/plain": [
              "'left'"
            ],
            "application/vnd.google.colaboratory.intrinsic+json": {
              "type": "string"
            }
          },
          "metadata": {},
          "execution_count": 25
        }
      ]
    },
    {
      "cell_type": "code",
      "source": [
        "# cat farther from fish\n",
        "pi[530]"
      ],
      "metadata": {
        "id": "Uhz8RWDKsY1B",
        "colab": {
          "base_uri": "https://localhost:8080/",
          "height": 35
        },
        "outputId": "327d31f7-73d1-4c93-8f22-fff9b9a2075a"
      },
      "id": "Uhz8RWDKsY1B",
      "execution_count": 26,
      "outputs": [
        {
          "output_type": "execute_result",
          "data": {
            "text/plain": [
              "'left'"
            ],
            "application/vnd.google.colaboratory.intrinsic+json": {
              "type": "string"
            }
          },
          "metadata": {},
          "execution_count": 26
        }
      ]
    },
    {
      "cell_type": "markdown",
      "source": [
        "## Visualize $\\pi$.\n",
        "\n",
        "Run this cell without changing its code."
      ],
      "metadata": {
        "id": "1LNvFbzNsdjd"
      },
      "id": "1LNvFbzNsdjd"
    },
    {
      "cell_type": "code",
      "source": [
        "pi_visualized = [\"🔥\" for _ in range(1024)]\n",
        "\n",
        "for i in range(1024):\n",
        "    if pi[i] == \"up\":\n",
        "        pi_visualized[i] = \"⬆️\"\n",
        "    elif pi[i] == \"down\":\n",
        "        pi_visualized[i] = \"⬇️\"\n",
        "    elif pi[i] == \"left\":\n",
        "        pi_visualized[i] = \"⬅️\"\n",
        "    elif pi[i] == \"right\":\n",
        "        pi_visualized[i] = \"➡️\"\n",
        "    else:\n",
        "        raise Exception(f\"Unknown action : {pi[i]!r}\")\n",
        "\n",
        "pi_visualized[16*32+16] = '🐟'\n",
        "\n",
        "for i in range(0, 1024, 32):\n",
        "    print(''.join(pi_visualized[i:i+32]))"
      ],
      "metadata": {
        "id": "4JdRRjHOsttq",
        "colab": {
          "base_uri": "https://localhost:8080/"
        },
        "outputId": "329172f9-c2cc-474c-fb1d-73eea8293a00"
      },
      "id": "4JdRRjHOsttq",
      "execution_count": 27,
      "outputs": [
        {
          "output_type": "stream",
          "name": "stdout",
          "text": [
            "➡️➡️➡️➡️➡️➡️➡️➡️➡️➡️➡️➡️➡️➡️⬇️⬇️⬇️⬇️⬇️⬅️⬅️⬅️⬅️⬅️⬅️⬅️⬅️⬅️⬅️⬅️⬅️⬇️\n",
            "⬇️⬇️➡️➡️➡️➡️➡️➡️➡️➡️➡️➡️➡️⬇️⬇️⬇️⬇️⬇️⬇️⬇️⬅️⬅️⬅️⬅️⬅️⬅️⬅️⬅️⬅️⬅️⬇️⬇️\n",
            "⬇️⬇️⬇️➡️➡️➡️➡️➡️➡️➡️➡️➡️⬇️⬇️⬇️⬇️⬇️⬇️⬇️⬇️⬇️⬅️⬅️⬅️⬅️⬅️⬅️⬅️⬅️⬇️⬇️⬇️\n",
            "⬇️⬇️⬇️⬇️➡️➡️➡️➡️➡️➡️⬇️⬇️⬇️⬇️⬇️⬇️⬇️⬇️⬇️⬇️⬇️⬇️⬇️⬅️⬅️⬅️⬅️⬅️⬇️⬇️⬇️⬇️\n",
            "⬇️⬇️⬇️⬇️➡️➡️➡️➡️➡️➡️⬇️⬇️⬇️⬇️⬇️⬇️⬇️⬇️⬇️⬇️⬇️⬇️⬇️⬅️⬅️⬅️⬅️⬇️⬇️⬇️⬇️⬇️\n",
            "⬇️⬇️⬇️⬇️⬇️⬇️➡️➡️➡️⬇️⬇️⬇️⬇️⬇️⬇️⬇️⬇️⬇️⬇️⬇️⬇️⬇️⬇️⬇️⬅️⬅️⬇️⬇️⬇️⬇️⬇️⬇️\n",
            "⬇️⬇️⬇️⬇️⬇️⬇️⬇️➡️⬇️⬇️⬇️⬇️⬇️⬇️⬇️⬇️⬇️⬇️⬇️⬇️⬇️⬇️⬇️⬇️⬇️⬇️⬇️⬇️⬇️⬇️⬇️⬇️\n",
            "⬇️⬇️⬇️⬇️⬇️⬇️⬇️⬇️⬇️⬇️⬇️⬇️⬇️⬇️⬇️⬇️⬇️⬇️⬇️⬇️⬇️⬇️⬇️⬇️⬇️⬇️⬇️⬇️⬇️⬇️⬇️⬇️\n",
            "⬇️⬇️⬇️⬇️⬇️⬇️➡️➡️⬇️⬇️⬇️⬇️⬇️⬇️⬇️⬇️⬇️⬇️⬇️⬇️⬇️⬇️⬇️⬇️⬇️⬅️⬇️⬇️⬇️⬇️⬇️⬇️\n",
            "⬇️⬇️⬇️⬇️⬇️➡️➡️➡️➡️⬇️⬇️⬇️⬇️⬇️⬇️⬇️⬇️⬇️⬇️⬇️⬇️⬇️⬇️⬇️⬅️⬅️⬅️⬇️⬇️⬇️⬇️⬇️\n",
            "⬇️⬇️⬇️➡️➡️➡️➡️➡️➡️➡️⬇️⬇️⬇️⬇️⬇️⬇️⬇️⬇️⬇️⬇️⬇️⬇️⬇️⬅️⬅️⬅️⬅️⬅️⬇️⬇️⬇️⬇️\n",
            "⬇️⬇️⬇️➡️➡️➡️➡️➡️➡️➡️➡️➡️⬇️⬇️⬇️⬇️⬇️⬇️⬇️⬇️⬇️⬅️⬅️⬅️⬅️⬅️⬅️⬅️⬅️⬇️⬇️⬇️\n",
            "⬇️⬇️➡️➡️➡️➡️➡️➡️➡️➡️➡️➡️➡️⬇️⬇️⬇️⬇️⬇️⬇️⬇️⬅️⬅️⬅️⬅️⬅️⬅️⬅️⬅️⬅️⬅️⬇️⬇️\n",
            "⬇️➡️➡️➡️➡️➡️➡️➡️➡️➡️➡️➡️➡️⬇️⬇️⬇️⬇️⬇️⬇️⬇️⬅️⬅️⬅️⬅️⬅️⬅️⬅️⬅️⬅️⬅️⬅️⬇️\n",
            "➡️➡️➡️➡️➡️➡️➡️➡️➡️➡️➡️➡️➡️➡️⬇️⬇️⬇️⬇️⬇️⬅️⬅️⬅️⬅️⬅️⬅️⬅️⬅️⬅️⬅️⬅️⬅️⬅️\n",
            "➡️➡️➡️➡️➡️➡️➡️➡️➡️➡️➡️➡️➡️➡️➡️⬇️⬇️⬇️⬅️⬅️⬅️⬅️⬅️⬅️⬅️⬅️⬅️⬅️⬅️⬅️⬅️⬅️\n",
            "➡️➡️➡️➡️➡️➡️➡️➡️➡️➡️➡️➡️➡️➡️➡️➡️🐟⬅️⬅️⬅️⬅️⬅️⬅️⬅️⬅️⬅️⬅️⬅️⬅️⬅️⬅️⬅️\n",
            "➡️➡️➡️➡️➡️➡️➡️➡️➡️➡️➡️➡️➡️➡️➡️⬆️⬆️⬆️⬅️⬅️⬅️⬅️⬅️⬅️⬅️⬅️⬅️⬅️⬅️⬅️⬅️⬅️\n",
            "➡️➡️➡️➡️➡️➡️➡️➡️➡️➡️➡️➡️➡️➡️⬆️⬆️⬆️⬆️⬆️⬅️⬅️⬅️⬅️⬅️⬅️⬅️⬅️⬅️⬅️⬅️⬅️⬅️\n",
            "⬆️➡️➡️➡️➡️➡️➡️➡️➡️➡️➡️➡️➡️⬆️⬆️⬆️⬆️⬆️⬆️⬆️⬅️⬅️⬅️⬅️⬅️⬅️⬅️⬅️⬅️⬅️⬅️⬆️\n",
            "⬆️⬆️➡️➡️➡️➡️➡️➡️➡️➡️➡️➡️⬆️⬆️⬆️⬆️⬆️⬆️⬆️⬆️⬆️⬅️⬅️⬅️⬅️⬅️⬅️⬅️⬅️⬅️⬆️⬆️\n",
            "⬆️⬆️⬆️➡️➡️➡️➡️➡️➡️➡️➡️➡️⬆️⬆️⬆️⬆️⬆️⬆️⬆️⬆️⬆️⬅️⬅️⬅️⬅️⬅️⬅️⬅️⬅️⬆️⬆️⬆️\n",
            "⬆️⬆️⬆️➡️➡️➡️➡️➡️➡️➡️⬆️⬆️⬆️⬆️⬆️⬆️⬆️⬆️⬆️⬆️⬆️⬆️⬆️⬅️⬅️⬅️⬅️⬅️⬆️⬆️⬆️⬆️\n",
            "⬆️⬆️⬆️⬆️⬆️➡️➡️➡️➡️⬆️⬆️⬆️⬆️⬆️⬆️⬆️⬆️⬆️⬆️⬆️⬆️⬆️⬆️⬆️⬅️⬅️⬅️⬆️⬆️⬆️⬆️⬆️\n",
            "⬆️⬆️⬆️⬆️⬆️⬆️➡️➡️⬆️⬆️⬆️⬆️⬆️⬆️⬆️⬆️⬆️⬆️⬆️⬆️⬆️⬆️⬆️⬆️⬆️⬅️⬆️⬆️⬆️⬆️⬆️⬆️\n",
            "⬆️⬆️⬆️⬆️⬆️⬆️➡️➡️⬆️⬆️⬆️⬆️⬆️⬆️⬆️⬆️⬆️⬆️⬆️⬆️⬆️⬆️⬆️⬆️⬆️⬆️⬆️⬆️⬆️⬆️⬆️⬆️\n",
            "⬆️⬆️⬆️⬆️⬆️➡️➡️➡️➡️⬆️⬆️⬆️⬆️⬆️⬆️⬆️⬆️⬆️⬆️⬆️⬆️⬆️⬆️⬆️⬅️⬅️⬅️⬆️⬆️⬆️⬆️⬆️\n",
            "⬆️⬆️⬆️⬆️➡️➡️➡️➡️➡️➡️⬆️⬆️⬆️⬆️⬆️⬆️⬆️⬆️⬆️⬆️⬆️⬆️⬆️⬅️⬅️⬅️⬅️⬆️⬆️⬆️⬆️⬆️\n",
            "⬆️⬆️⬆️➡️➡️➡️➡️➡️➡️➡️➡️⬆️⬆️⬆️⬆️⬆️⬆️⬆️⬆️⬆️⬆️⬆️⬅️⬅️⬅️⬅️⬅️⬅️⬆️⬆️⬆️⬆️\n",
            "⬆️⬆️➡️➡️➡️➡️➡️➡️➡️➡️➡️➡️⬆️⬆️⬆️⬆️⬆️⬆️⬆️⬆️⬆️⬅️⬅️⬅️⬅️⬅️⬅️⬅️⬅️⬅️⬆️⬆️\n",
            "⬆️➡️➡️➡️➡️➡️➡️➡️➡️➡️➡️➡️➡️⬆️⬆️⬆️⬆️⬆️⬆️⬆️⬅️⬅️⬅️⬅️⬅️⬅️⬅️⬅️⬅️⬅️⬅️⬆️\n",
            "➡️➡️➡️➡️➡️➡️➡️➡️➡️➡️➡️➡️➡️➡️⬆️⬆️⬆️⬆️⬆️⬅️⬅️⬅️⬅️⬅️⬅️⬅️⬅️⬅️⬅️⬅️⬅️⬆️\n"
          ]
        }
      ]
    }
  ],
  "metadata": {
    "kernelspec": {
      "display_name": "Python 3 (ipykernel)",
      "language": "python",
      "name": "python3"
    },
    "language_info": {
      "codemirror_mode": {
        "name": "ipython",
        "version": 3
      },
      "file_extension": ".py",
      "mimetype": "text/x-python",
      "name": "python",
      "nbconvert_exporter": "python",
      "pygments_lexer": "ipython3",
      "version": "3.12.11"
    },
    "colab": {
      "provenance": []
    }
  },
  "nbformat": 4,
  "nbformat_minor": 5
}
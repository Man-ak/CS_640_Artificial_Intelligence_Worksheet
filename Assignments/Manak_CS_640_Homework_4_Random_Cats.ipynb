{
  "cells": [
    {
      "cell_type": "markdown",
      "id": "38dd63ed-e907-448d-9823-35170af5b044",
      "metadata": {
        "id": "38dd63ed-e907-448d-9823-35170af5b044"
      },
      "source": [
        "# CS 640 - 2025 Fall - Homework 4\n",
        "\n",
        "In this homework, you will define a Markov reward process describing a cat making random walk on a 32 x 32 grid looking for a fish."
      ]
    },
    {
      "cell_type": "markdown",
      "id": "637a0c24-418c-4c54-b118-81425eaf6c62",
      "metadata": {
        "id": "637a0c24-418c-4c54-b118-81425eaf6c62"
      },
      "source": [
        "## Instructions\n",
        "\n",
        "1. Follow the instructions below to construct and analyze the Markov reward process.\n",
        "2. Run all the cells so that all the check cells are updated.\n",
        "3. Answer the question at the bottom.\n",
        "4. Submit your notebook in Gradescope.\n",
        "\n",
        "This problem is designed to be slow on a CPU but fast with a GPU.\n",
        "Please plan accordingly for SCC access as needed."
      ]
    },
    {
      "cell_type": "code",
      "execution_count": 13,
      "id": "2fbd426f-1109-4673-808f-db0c556fadbf",
      "metadata": {
        "id": "2fbd426f-1109-4673-808f-db0c556fadbf"
      },
      "outputs": [],
      "source": [
        "import torch"
      ]
    },
    {
      "cell_type": "markdown",
      "id": "eded7a72-6bf9-4886-8d47-4c5f4174ff8a",
      "metadata": {
        "id": "eded7a72-6bf9-4886-8d47-4c5f4174ff8a"
      },
      "source": [
        "## State Descriptions\n",
        "\n",
        "You will construct a Markov reward problem based on the following specification.\n",
        "1. The states are numbered from 0 to 1024 (inclusive).\n",
        "2. The state 1024 is a special done state.\n",
        "3. For state s from 0 to 1023, the state number encodes coordinates as follows.\n",
        "  * x = s % 32\n",
        "  * y = s / 32 (integer division)\n",
        "  * x and y represent the location of a cat in a 32x32 grid.\n",
        "4. At the state corresponding to x=16,y=16, there is a fish unless the cat is also there.\n",
        "\n",
        "The following function `print_state` will visualize the state."
      ]
    },
    {
      "cell_type": "code",
      "execution_count": 14,
      "id": "349edcee-6108-4613-b0ef-ac588132ddd6",
      "metadata": {
        "id": "349edcee-6108-4613-b0ef-ac588132ddd6",
        "outputId": "436066ed-304a-4d68-9b3a-c21b76a66dd1",
        "colab": {
          "base_uri": "https://localhost:8080/"
        }
      },
      "outputs": [
        {
          "output_type": "stream",
          "name": "stdout",
          "text": [
            "STATE 0\n",
            "🐱🪨🪨🪨🪨🪨🪨🪨🪨🪨🪨🪨🪨🪨🪨🪨🪨🪨🪨🪨🪨🪨🪨🪨🪨🪨🪨🪨🪨🪨🪨🪨\n",
            "🪨🪨🪨🪨🪨🪨🪨🪨🪨🪨🪨🪨🪨🪨🪨🪨🪨🪨🪨🪨🪨🪨🪨🪨🪨🪨🪨🪨🪨🪨🪨🪨\n",
            "🪨🪨🪨🪨🪨🪨🪨🪨🪨🪨🪨🪨🪨🪨🪨🪨🪨🪨🪨🪨🪨🪨🪨🪨🪨🪨🪨🪨🪨🪨🪨🪨\n",
            "🪨🪨🪨🪨🪨🪨🪨🪨🪨🪨🪨🪨🪨🪨🪨🪨🪨🪨🪨🪨🪨🪨🪨🪨🪨🪨🪨🪨🪨🪨🪨🪨\n",
            "🪨🪨🪨🪨🪨🪨🪨🪨🪨🪨🪨🪨🪨🪨🪨🪨🪨🪨🪨🪨🪨🪨🪨🪨🪨🪨🪨🪨🪨🪨🪨🪨\n",
            "🪨🪨🪨🪨🪨🪨🪨🪨🪨🪨🪨🪨🪨🪨🪨🪨🪨🪨🪨🪨🪨🪨🪨🪨🪨🪨🪨🪨🪨🪨🪨🪨\n",
            "🪨🪨🪨🪨🪨🪨🪨🪨🪨🪨🪨🪨🪨🪨🪨🪨🪨🪨🪨🪨🪨🪨🪨🪨🪨🪨🪨🪨🪨🪨🪨🪨\n",
            "🪨🪨🪨🪨🪨🪨🪨🪨🪨🪨🪨🪨🪨🪨🪨🪨🪨🪨🪨🪨🪨🪨🪨🪨🪨🪨🪨🪨🪨🪨🪨🪨\n",
            "🪨🪨🪨🪨🪨🪨🪨🪨🪨🪨🪨🪨🪨🪨🪨🪨🪨🪨🪨🪨🪨🪨🪨🪨🪨🪨🪨🪨🪨🪨🪨🪨\n",
            "🪨🪨🪨🪨🪨🪨🪨🪨🪨🪨🪨🪨🪨🪨🪨🪨🪨🪨🪨🪨🪨🪨🪨🪨🪨🪨🪨🪨🪨🪨🪨🪨\n",
            "🪨🪨🪨🪨🪨🪨🪨🪨🪨🪨🪨🪨🪨🪨🪨🪨🪨🪨🪨🪨🪨🪨🪨🪨🪨🪨🪨🪨🪨🪨🪨🪨\n",
            "🪨🪨🪨🪨🪨🪨🪨🪨🪨🪨🪨🪨🪨🪨🪨🪨🪨🪨🪨🪨🪨🪨🪨🪨🪨🪨🪨🪨🪨🪨🪨🪨\n",
            "🪨🪨🪨🪨🪨🪨🪨🪨🪨🪨🪨🪨🪨🪨🪨🪨🪨🪨🪨🪨🪨🪨🪨🪨🪨🪨🪨🪨🪨🪨🪨🪨\n",
            "🪨🪨🪨🪨🪨🪨🪨🪨🪨🪨🪨🪨🪨🪨🪨🪨🪨🪨🪨🪨🪨🪨🪨🪨🪨🪨🪨🪨🪨🪨🪨🪨\n",
            "🪨🪨🪨🪨🪨🪨🪨🪨🪨🪨🪨🪨🪨🪨🪨🪨🪨🪨🪨🪨🪨🪨🪨🪨🪨🪨🪨🪨🪨🪨🪨🪨\n",
            "🪨🪨🪨🪨🪨🪨🪨🪨🪨🪨🪨🪨🪨🪨🪨🪨🪨🪨🪨🪨🪨🪨🪨🪨🪨🪨🪨🪨🪨🪨🪨🪨\n",
            "🪨🪨🪨🪨🪨🪨🪨🪨🪨🪨🪨🪨🪨🪨🪨🪨🐟🪨🪨🪨🪨🪨🪨🪨🪨🪨🪨🪨🪨🪨🪨🪨\n",
            "🪨🪨🪨🪨🪨🪨🪨🪨🪨🪨🪨🪨🪨🪨🪨🪨🪨🪨🪨🪨🪨🪨🪨🪨🪨🪨🪨🪨🪨🪨🪨🪨\n",
            "🪨🪨🪨🪨🪨🪨🪨🪨🪨🪨🪨🪨🪨🪨🪨🪨🪨🪨🪨🪨🪨🪨🪨🪨🪨🪨🪨🪨🪨🪨🪨🪨\n",
            "🪨🪨🪨🪨🪨🪨🪨🪨🪨🪨🪨🪨🪨🪨🪨🪨🪨🪨🪨🪨🪨🪨🪨🪨🪨🪨🪨🪨🪨🪨🪨🪨\n",
            "🪨🪨🪨🪨🪨🪨🪨🪨🪨🪨🪨🪨🪨🪨🪨🪨🪨🪨🪨🪨🪨🪨🪨🪨🪨🪨🪨🪨🪨🪨🪨🪨\n",
            "🪨🪨🪨🪨🪨🪨🪨🪨🪨🪨🪨🪨🪨🪨🪨🪨🪨🪨🪨🪨🪨🪨🪨🪨🪨🪨🪨🪨🪨🪨🪨🪨\n",
            "🪨🪨🪨🪨🪨🪨🪨🪨🪨🪨🪨🪨🪨🪨🪨🪨🪨🪨🪨🪨🪨🪨🪨🪨🪨🪨🪨🪨🪨🪨🪨🪨\n",
            "🪨🪨🪨🪨🪨🪨🪨🪨🪨🪨🪨🪨🪨🪨🪨🪨🪨🪨🪨🪨🪨🪨🪨🪨🪨🪨🪨🪨🪨🪨🪨🪨\n",
            "🪨🪨🪨🪨🪨🪨🪨🪨🪨🪨🪨🪨🪨🪨🪨🪨🪨🪨🪨🪨🪨🪨🪨🪨🪨🪨🪨🪨🪨🪨🪨🪨\n",
            "🪨🪨🪨🪨🪨🪨🪨🪨🪨🪨🪨🪨🪨🪨🪨🪨🪨🪨🪨🪨🪨🪨🪨🪨🪨🪨🪨🪨🪨🪨🪨🪨\n",
            "🪨🪨🪨🪨🪨🪨🪨🪨🪨🪨🪨🪨🪨🪨🪨🪨🪨🪨🪨🪨🪨🪨🪨🪨🪨🪨🪨🪨🪨🪨🪨🪨\n",
            "🪨🪨🪨🪨🪨🪨🪨🪨🪨🪨🪨🪨🪨🪨🪨🪨🪨🪨🪨🪨🪨🪨🪨🪨🪨🪨🪨🪨🪨🪨🪨🪨\n",
            "🪨🪨🪨🪨🪨🪨🪨🪨🪨🪨🪨🪨🪨🪨🪨🪨🪨🪨🪨🪨🪨🪨🪨🪨🪨🪨🪨🪨🪨🪨🪨🪨\n",
            "🪨🪨🪨🪨🪨🪨🪨🪨🪨🪨🪨🪨🪨🪨🪨🪨🪨🪨🪨🪨🪨🪨🪨🪨🪨🪨🪨🪨🪨🪨🪨🪨\n",
            "🪨🪨🪨🪨🪨🪨🪨🪨🪨🪨🪨🪨🪨🪨🪨🪨🪨🪨🪨🪨🪨🪨🪨🪨🪨🪨🪨🪨🪨🪨🪨🪨\n",
            "🪨🪨🪨🪨🪨🪨🪨🪨🪨🪨🪨🪨🪨🪨🪨🪨🪨🪨🪨🪨🪨🪨🪨🪨🪨🪨🪨🪨🪨🪨🪨🪨\n",
            "\n",
            "STATE 69\n",
            "🪨🪨🪨🪨🪨🪨🪨🪨🪨🪨🪨🪨🪨🪨🪨🪨🪨🪨🪨🪨🪨🪨🪨🪨🪨🪨🪨🪨🪨🪨🪨🪨\n",
            "🪨🪨🪨🪨🪨🪨🪨🪨🪨🪨🪨🪨🪨🪨🪨🪨🪨🪨🪨🪨🪨🪨🪨🪨🪨🪨🪨🪨🪨🪨🪨🪨\n",
            "🪨🪨🪨🪨🪨🐱🪨🪨🪨🪨🪨🪨🪨🪨🪨🪨🪨🪨🪨🪨🪨🪨🪨🪨🪨🪨🪨🪨🪨🪨🪨🪨\n",
            "🪨🪨🪨🪨🪨🪨🪨🪨🪨🪨🪨🪨🪨🪨🪨🪨🪨🪨🪨🪨🪨🪨🪨🪨🪨🪨🪨🪨🪨🪨🪨🪨\n",
            "🪨🪨🪨🪨🪨🪨🪨🪨🪨🪨🪨🪨🪨🪨🪨🪨🪨🪨🪨🪨🪨🪨🪨🪨🪨🪨🪨🪨🪨🪨🪨🪨\n",
            "🪨🪨🪨🪨🪨🪨🪨🪨🪨🪨🪨🪨🪨🪨🪨🪨🪨🪨🪨🪨🪨🪨🪨🪨🪨🪨🪨🪨🪨🪨🪨🪨\n",
            "🪨🪨🪨🪨🪨🪨🪨🪨🪨🪨🪨🪨🪨🪨🪨🪨🪨🪨🪨🪨🪨🪨🪨🪨🪨🪨🪨🪨🪨🪨🪨🪨\n",
            "🪨🪨🪨🪨🪨🪨🪨🪨🪨🪨🪨🪨🪨🪨🪨🪨🪨🪨🪨🪨🪨🪨🪨🪨🪨🪨🪨🪨🪨🪨🪨🪨\n",
            "🪨🪨🪨🪨🪨🪨🪨🪨🪨🪨🪨🪨🪨🪨🪨🪨🪨🪨🪨🪨🪨🪨🪨🪨🪨🪨🪨🪨🪨🪨🪨🪨\n",
            "🪨🪨🪨🪨🪨🪨🪨🪨🪨🪨🪨🪨🪨🪨🪨🪨🪨🪨🪨🪨🪨🪨🪨🪨🪨🪨🪨🪨🪨🪨🪨🪨\n",
            "🪨🪨🪨🪨🪨🪨🪨🪨🪨🪨🪨🪨🪨🪨🪨🪨🪨🪨🪨🪨🪨🪨🪨🪨🪨🪨🪨🪨🪨🪨🪨🪨\n",
            "🪨🪨🪨🪨🪨🪨🪨🪨🪨🪨🪨🪨🪨🪨🪨🪨🪨🪨🪨🪨🪨🪨🪨🪨🪨🪨🪨🪨🪨🪨🪨🪨\n",
            "🪨🪨🪨🪨🪨🪨🪨🪨🪨🪨🪨🪨🪨🪨🪨🪨🪨🪨🪨🪨🪨🪨🪨🪨🪨🪨🪨🪨🪨🪨🪨🪨\n",
            "🪨🪨🪨🪨🪨🪨🪨🪨🪨🪨🪨🪨🪨🪨🪨🪨🪨🪨🪨🪨🪨🪨🪨🪨🪨🪨🪨🪨🪨🪨🪨🪨\n",
            "🪨🪨🪨🪨🪨🪨🪨🪨🪨🪨🪨🪨🪨🪨🪨🪨🪨🪨🪨🪨🪨🪨🪨🪨🪨🪨🪨🪨🪨🪨🪨🪨\n",
            "🪨🪨🪨🪨🪨🪨🪨🪨🪨🪨🪨🪨🪨🪨🪨🪨🪨🪨🪨🪨🪨🪨🪨🪨🪨🪨🪨🪨🪨🪨🪨🪨\n",
            "🪨🪨🪨🪨🪨🪨🪨🪨🪨🪨🪨🪨🪨🪨🪨🪨🐟🪨🪨🪨🪨🪨🪨🪨🪨🪨🪨🪨🪨🪨🪨🪨\n",
            "🪨🪨🪨🪨🪨🪨🪨🪨🪨🪨🪨🪨🪨🪨🪨🪨🪨🪨🪨🪨🪨🪨🪨🪨🪨🪨🪨🪨🪨🪨🪨🪨\n",
            "🪨🪨🪨🪨🪨🪨🪨🪨🪨🪨🪨🪨🪨🪨🪨🪨🪨🪨🪨🪨🪨🪨🪨🪨🪨🪨🪨🪨🪨🪨🪨🪨\n",
            "🪨🪨🪨🪨🪨🪨🪨🪨🪨🪨🪨🪨🪨🪨🪨🪨🪨🪨🪨🪨🪨🪨🪨🪨🪨🪨🪨🪨🪨🪨🪨🪨\n",
            "🪨🪨🪨🪨🪨🪨🪨🪨🪨🪨🪨🪨🪨🪨🪨🪨🪨🪨🪨🪨🪨🪨🪨🪨🪨🪨🪨🪨🪨🪨🪨🪨\n",
            "🪨🪨🪨🪨🪨🪨🪨🪨🪨🪨🪨🪨🪨🪨🪨🪨🪨🪨🪨🪨🪨🪨🪨🪨🪨🪨🪨🪨🪨🪨🪨🪨\n",
            "🪨🪨🪨🪨🪨🪨🪨🪨🪨🪨🪨🪨🪨🪨🪨🪨🪨🪨🪨🪨🪨🪨🪨🪨🪨🪨🪨🪨🪨🪨🪨🪨\n",
            "🪨🪨🪨🪨🪨🪨🪨🪨🪨🪨🪨🪨🪨🪨🪨🪨🪨🪨🪨🪨🪨🪨🪨🪨🪨🪨🪨🪨🪨🪨🪨🪨\n",
            "🪨🪨🪨🪨🪨🪨🪨🪨🪨🪨🪨🪨🪨🪨🪨🪨🪨🪨🪨🪨🪨🪨🪨🪨🪨🪨🪨🪨🪨🪨🪨🪨\n",
            "🪨🪨🪨🪨🪨🪨🪨🪨🪨🪨🪨🪨🪨🪨🪨🪨🪨🪨🪨🪨🪨🪨🪨🪨🪨🪨🪨🪨🪨🪨🪨🪨\n",
            "🪨🪨🪨🪨🪨🪨🪨🪨🪨🪨🪨🪨🪨🪨🪨🪨🪨🪨🪨🪨🪨🪨🪨🪨🪨🪨🪨🪨🪨🪨🪨🪨\n",
            "🪨🪨🪨🪨🪨🪨🪨🪨🪨🪨🪨🪨🪨🪨🪨🪨🪨🪨🪨🪨🪨🪨🪨🪨🪨🪨🪨🪨🪨🪨🪨🪨\n",
            "🪨🪨🪨🪨🪨🪨🪨🪨🪨🪨🪨🪨🪨🪨🪨🪨🪨🪨🪨🪨🪨🪨🪨🪨🪨🪨🪨🪨🪨🪨🪨🪨\n",
            "🪨🪨🪨🪨🪨🪨🪨🪨🪨🪨🪨🪨🪨🪨🪨🪨🪨🪨🪨🪨🪨🪨🪨🪨🪨🪨🪨🪨🪨🪨🪨🪨\n",
            "🪨🪨🪨🪨🪨🪨🪨🪨🪨🪨🪨🪨🪨🪨🪨🪨🪨🪨🪨🪨🪨🪨🪨🪨🪨🪨🪨🪨🪨🪨🪨🪨\n",
            "🪨🪨🪨🪨🪨🪨🪨🪨🪨🪨🪨🪨🪨🪨🪨🪨🪨🪨🪨🪨🪨🪨🪨🪨🪨🪨🪨🪨🪨🪨🪨🪨\n",
            "\n",
            "STATE 528\n",
            "🪨🪨🪨🪨🪨🪨🪨🪨🪨🪨🪨🪨🪨🪨🪨🪨🪨🪨🪨🪨🪨🪨🪨🪨🪨🪨🪨🪨🪨🪨🪨🪨\n",
            "🪨🪨🪨🪨🪨🪨🪨🪨🪨🪨🪨🪨🪨🪨🪨🪨🪨🪨🪨🪨🪨🪨🪨🪨🪨🪨🪨🪨🪨🪨🪨🪨\n",
            "🪨🪨🪨🪨🪨🪨🪨🪨🪨🪨🪨🪨🪨🪨🪨🪨🪨🪨🪨🪨🪨🪨🪨🪨🪨🪨🪨🪨🪨🪨🪨🪨\n",
            "🪨🪨🪨🪨🪨🪨🪨🪨🪨🪨🪨🪨🪨🪨🪨🪨🪨🪨🪨🪨🪨🪨🪨🪨🪨🪨🪨🪨🪨🪨🪨🪨\n",
            "🪨🪨🪨🪨🪨🪨🪨🪨🪨🪨🪨🪨🪨🪨🪨🪨🪨🪨🪨🪨🪨🪨🪨🪨🪨🪨🪨🪨🪨🪨🪨🪨\n",
            "🪨🪨🪨🪨🪨🪨🪨🪨🪨🪨🪨🪨🪨🪨🪨🪨🪨🪨🪨🪨🪨🪨🪨🪨🪨🪨🪨🪨🪨🪨🪨🪨\n",
            "🪨🪨🪨🪨🪨🪨🪨🪨🪨🪨🪨🪨🪨🪨🪨🪨🪨🪨🪨🪨🪨🪨🪨🪨🪨🪨🪨🪨🪨🪨🪨🪨\n",
            "🪨🪨🪨🪨🪨🪨🪨🪨🪨🪨🪨🪨🪨🪨🪨🪨🪨🪨🪨🪨🪨🪨🪨🪨🪨🪨🪨🪨🪨🪨🪨🪨\n",
            "🪨🪨🪨🪨🪨🪨🪨🪨🪨🪨🪨🪨🪨🪨🪨🪨🪨🪨🪨🪨🪨🪨🪨🪨🪨🪨🪨🪨🪨🪨🪨🪨\n",
            "🪨🪨🪨🪨🪨🪨🪨🪨🪨🪨🪨🪨🪨🪨🪨🪨🪨🪨🪨🪨🪨🪨🪨🪨🪨🪨🪨🪨🪨🪨🪨🪨\n",
            "🪨🪨🪨🪨🪨🪨🪨🪨🪨🪨🪨🪨🪨🪨🪨🪨🪨🪨🪨🪨🪨🪨🪨🪨🪨🪨🪨🪨🪨🪨🪨🪨\n",
            "🪨🪨🪨🪨🪨🪨🪨🪨🪨🪨🪨🪨🪨🪨🪨🪨🪨🪨🪨🪨🪨🪨🪨🪨🪨🪨🪨🪨🪨🪨🪨🪨\n",
            "🪨🪨🪨🪨🪨🪨🪨🪨🪨🪨🪨🪨🪨🪨🪨🪨🪨🪨🪨🪨🪨🪨🪨🪨🪨🪨🪨🪨🪨🪨🪨🪨\n",
            "🪨🪨🪨🪨🪨🪨🪨🪨🪨🪨🪨🪨🪨🪨🪨🪨🪨🪨🪨🪨🪨🪨🪨🪨🪨🪨🪨🪨🪨🪨🪨🪨\n",
            "🪨🪨🪨🪨🪨🪨🪨🪨🪨🪨🪨🪨🪨🪨🪨🪨🪨🪨🪨🪨🪨🪨🪨🪨🪨🪨🪨🪨🪨🪨🪨🪨\n",
            "🪨🪨🪨🪨🪨🪨🪨🪨🪨🪨🪨🪨🪨🪨🪨🪨🪨🪨🪨🪨🪨🪨🪨🪨🪨🪨🪨🪨🪨🪨🪨🪨\n",
            "🪨🪨🪨🪨🪨🪨🪨🪨🪨🪨🪨🪨🪨🪨🪨🪨🐱🪨🪨🪨🪨🪨🪨🪨🪨🪨🪨🪨🪨🪨🪨🪨\n",
            "🪨🪨🪨🪨🪨🪨🪨🪨🪨🪨🪨🪨🪨🪨🪨🪨🪨🪨🪨🪨🪨🪨🪨🪨🪨🪨🪨🪨🪨🪨🪨🪨\n",
            "🪨🪨🪨🪨🪨🪨🪨🪨🪨🪨🪨🪨🪨🪨🪨🪨🪨🪨🪨🪨🪨🪨🪨🪨🪨🪨🪨🪨🪨🪨🪨🪨\n",
            "🪨🪨🪨🪨🪨🪨🪨🪨🪨🪨🪨🪨🪨🪨🪨🪨🪨🪨🪨🪨🪨🪨🪨🪨🪨🪨🪨🪨🪨🪨🪨🪨\n",
            "🪨🪨🪨🪨🪨🪨🪨🪨🪨🪨🪨🪨🪨🪨🪨🪨🪨🪨🪨🪨🪨🪨🪨🪨🪨🪨🪨🪨🪨🪨🪨🪨\n",
            "🪨🪨🪨🪨🪨🪨🪨🪨🪨🪨🪨🪨🪨🪨🪨🪨🪨🪨🪨🪨🪨🪨🪨🪨🪨🪨🪨🪨🪨🪨🪨🪨\n",
            "🪨🪨🪨🪨🪨🪨🪨🪨🪨🪨🪨🪨🪨🪨🪨🪨🪨🪨🪨🪨🪨🪨🪨🪨🪨🪨🪨🪨🪨🪨🪨🪨\n",
            "🪨🪨🪨🪨🪨🪨🪨🪨🪨🪨🪨🪨🪨🪨🪨🪨🪨🪨🪨🪨🪨🪨🪨🪨🪨🪨🪨🪨🪨🪨🪨🪨\n",
            "🪨🪨🪨🪨🪨🪨🪨🪨🪨🪨🪨🪨🪨🪨🪨🪨🪨🪨🪨🪨🪨🪨🪨🪨🪨🪨🪨🪨🪨🪨🪨🪨\n",
            "🪨🪨🪨🪨🪨🪨🪨🪨🪨🪨🪨🪨🪨🪨🪨🪨🪨🪨🪨🪨🪨🪨🪨🪨🪨🪨🪨🪨🪨🪨🪨🪨\n",
            "🪨🪨🪨🪨🪨🪨🪨🪨🪨🪨🪨🪨🪨🪨🪨🪨🪨🪨🪨🪨🪨🪨🪨🪨🪨🪨🪨🪨🪨🪨🪨🪨\n",
            "🪨🪨🪨🪨🪨🪨🪨🪨🪨🪨🪨🪨🪨🪨🪨🪨🪨🪨🪨🪨🪨🪨🪨🪨🪨🪨🪨🪨🪨🪨🪨🪨\n",
            "🪨🪨🪨🪨🪨🪨🪨🪨🪨🪨🪨🪨🪨🪨🪨🪨🪨🪨🪨🪨🪨🪨🪨🪨🪨🪨🪨🪨🪨🪨🪨🪨\n",
            "🪨🪨🪨🪨🪨🪨🪨🪨🪨🪨🪨🪨🪨🪨🪨🪨🪨🪨🪨🪨🪨🪨🪨🪨🪨🪨🪨🪨🪨🪨🪨🪨\n",
            "🪨🪨🪨🪨🪨🪨🪨🪨🪨🪨🪨🪨🪨🪨🪨🪨🪨🪨🪨🪨🪨🪨🪨🪨🪨🪨🪨🪨🪨🪨🪨🪨\n",
            "🪨🪨🪨🪨🪨🪨🪨🪨🪨🪨🪨🪨🪨🪨🪨🪨🪨🪨🪨🪨🪨🪨🪨🪨🪨🪨🪨🪨🪨🪨🪨🪨\n",
            "\n",
            "STATE 1023\n",
            "🪨🪨🪨🪨🪨🪨🪨🪨🪨🪨🪨🪨🪨🪨🪨🪨🪨🪨🪨🪨🪨🪨🪨🪨🪨🪨🪨🪨🪨🪨🪨🪨\n",
            "🪨🪨🪨🪨🪨🪨🪨🪨🪨🪨🪨🪨🪨🪨🪨🪨🪨🪨🪨🪨🪨🪨🪨🪨🪨🪨🪨🪨🪨🪨🪨🪨\n",
            "🪨🪨🪨🪨🪨🪨🪨🪨🪨🪨🪨🪨🪨🪨🪨🪨🪨🪨🪨🪨🪨🪨🪨🪨🪨🪨🪨🪨🪨🪨🪨🪨\n",
            "🪨🪨🪨🪨🪨🪨🪨🪨🪨🪨🪨🪨🪨🪨🪨🪨🪨🪨🪨🪨🪨🪨🪨🪨🪨🪨🪨🪨🪨🪨🪨🪨\n",
            "🪨🪨🪨🪨🪨🪨🪨🪨🪨🪨🪨🪨🪨🪨🪨🪨🪨🪨🪨🪨🪨🪨🪨🪨🪨🪨🪨🪨🪨🪨🪨🪨\n",
            "🪨🪨🪨🪨🪨🪨🪨🪨🪨🪨🪨🪨🪨🪨🪨🪨🪨🪨🪨🪨🪨🪨🪨🪨🪨🪨🪨🪨🪨🪨🪨🪨\n",
            "🪨🪨🪨🪨🪨🪨🪨🪨🪨🪨🪨🪨🪨🪨🪨🪨🪨🪨🪨🪨🪨🪨🪨🪨🪨🪨🪨🪨🪨🪨🪨🪨\n",
            "🪨🪨🪨🪨🪨🪨🪨🪨🪨🪨🪨🪨🪨🪨🪨🪨🪨🪨🪨🪨🪨🪨🪨🪨🪨🪨🪨🪨🪨🪨🪨🪨\n",
            "🪨🪨🪨🪨🪨🪨🪨🪨🪨🪨🪨🪨🪨🪨🪨🪨🪨🪨🪨🪨🪨🪨🪨🪨🪨🪨🪨🪨🪨🪨🪨🪨\n",
            "🪨🪨🪨🪨🪨🪨🪨🪨🪨🪨🪨🪨🪨🪨🪨🪨🪨🪨🪨🪨🪨🪨🪨🪨🪨🪨🪨🪨🪨🪨🪨🪨\n",
            "🪨🪨🪨🪨🪨🪨🪨🪨🪨🪨🪨🪨🪨🪨🪨🪨🪨🪨🪨🪨🪨🪨🪨🪨🪨🪨🪨🪨🪨🪨🪨🪨\n",
            "🪨🪨🪨🪨🪨🪨🪨🪨🪨🪨🪨🪨🪨🪨🪨🪨🪨🪨🪨🪨🪨🪨🪨🪨🪨🪨🪨🪨🪨🪨🪨🪨\n",
            "🪨🪨🪨🪨🪨🪨🪨🪨🪨🪨🪨🪨🪨🪨🪨🪨🪨🪨🪨🪨🪨🪨🪨🪨🪨🪨🪨🪨🪨🪨🪨🪨\n",
            "🪨🪨🪨🪨🪨🪨🪨🪨🪨🪨🪨🪨🪨🪨🪨🪨🪨🪨🪨🪨🪨🪨🪨🪨🪨🪨🪨🪨🪨🪨🪨🪨\n",
            "🪨🪨🪨🪨🪨🪨🪨🪨🪨🪨🪨🪨🪨🪨🪨🪨🪨🪨🪨🪨🪨🪨🪨🪨🪨🪨🪨🪨🪨🪨🪨🪨\n",
            "🪨🪨🪨🪨🪨🪨🪨🪨🪨🪨🪨🪨🪨🪨🪨🪨🪨🪨🪨🪨🪨🪨🪨🪨🪨🪨🪨🪨🪨🪨🪨🪨\n",
            "🪨🪨🪨🪨🪨🪨🪨🪨🪨🪨🪨🪨🪨🪨🪨🪨🐟🪨🪨🪨🪨🪨🪨🪨🪨🪨🪨🪨🪨🪨🪨🪨\n",
            "🪨🪨🪨🪨🪨🪨🪨🪨🪨🪨🪨🪨🪨🪨🪨🪨🪨🪨🪨🪨🪨🪨🪨🪨🪨🪨🪨🪨🪨🪨🪨🪨\n",
            "🪨🪨🪨🪨🪨🪨🪨🪨🪨🪨🪨🪨🪨🪨🪨🪨🪨🪨🪨🪨🪨🪨🪨🪨🪨🪨🪨🪨🪨🪨🪨🪨\n",
            "🪨🪨🪨🪨🪨🪨🪨🪨🪨🪨🪨🪨🪨🪨🪨🪨🪨🪨🪨🪨🪨🪨🪨🪨🪨🪨🪨🪨🪨🪨🪨🪨\n",
            "🪨🪨🪨🪨🪨🪨🪨🪨🪨🪨🪨🪨🪨🪨🪨🪨🪨🪨🪨🪨🪨🪨🪨🪨🪨🪨🪨🪨🪨🪨🪨🪨\n",
            "🪨🪨🪨🪨🪨🪨🪨🪨🪨🪨🪨🪨🪨🪨🪨🪨🪨🪨🪨🪨🪨🪨🪨🪨🪨🪨🪨🪨🪨🪨🪨🪨\n",
            "🪨🪨🪨🪨🪨🪨🪨🪨🪨🪨🪨🪨🪨🪨🪨🪨🪨🪨🪨🪨🪨🪨🪨🪨🪨🪨🪨🪨🪨🪨🪨🪨\n",
            "🪨🪨🪨🪨🪨🪨🪨🪨🪨🪨🪨🪨🪨🪨🪨🪨🪨🪨🪨🪨🪨🪨🪨🪨🪨🪨🪨🪨🪨🪨🪨🪨\n",
            "🪨🪨🪨🪨🪨🪨🪨🪨🪨🪨🪨🪨🪨🪨🪨🪨🪨🪨🪨🪨🪨🪨🪨🪨🪨🪨🪨🪨🪨🪨🪨🪨\n",
            "🪨🪨🪨🪨🪨🪨🪨🪨🪨🪨🪨🪨🪨🪨🪨🪨🪨🪨🪨🪨🪨🪨🪨🪨🪨🪨🪨🪨🪨🪨🪨🪨\n",
            "🪨🪨🪨🪨🪨🪨🪨🪨🪨🪨🪨🪨🪨🪨🪨🪨🪨🪨🪨🪨🪨🪨🪨🪨🪨🪨🪨🪨🪨🪨🪨🪨\n",
            "🪨🪨🪨🪨🪨🪨🪨🪨🪨🪨🪨🪨🪨🪨🪨🪨🪨🪨🪨🪨🪨🪨🪨🪨🪨🪨🪨🪨🪨🪨🪨🪨\n",
            "🪨🪨🪨🪨🪨🪨🪨🪨🪨🪨🪨🪨🪨🪨🪨🪨🪨🪨🪨🪨🪨🪨🪨🪨🪨🪨🪨🪨🪨🪨🪨🪨\n",
            "🪨🪨🪨🪨🪨🪨🪨🪨🪨🪨🪨🪨🪨🪨🪨🪨🪨🪨🪨🪨🪨🪨🪨🪨🪨🪨🪨🪨🪨🪨🪨🪨\n",
            "🪨🪨🪨🪨🪨🪨🪨🪨🪨🪨🪨🪨🪨🪨🪨🪨🪨🪨🪨🪨🪨🪨🪨🪨🪨🪨🪨🪨🪨🪨🪨🪨\n",
            "🪨🪨🪨🪨🪨🪨🪨🪨🪨🪨🪨🪨🪨🪨🪨🪨🪨🪨🪨🪨🪨🪨🪨🪨🪨🪨🪨🪨🪨🪨🪨🐱\n",
            "\n",
            "STATE 1024\n",
            "DONE\n",
            "\n"
          ]
        }
      ],
      "source": [
        "def print_state(s):\n",
        "    assert 0 <= s <= 1024\n",
        "\n",
        "    print(\"STATE\", s)\n",
        "\n",
        "    if s < 1024:\n",
        "        # normal state indicating y, x coordinates\n",
        "        output = ['🪨' for _ in range(1024)]\n",
        "        output[16*32+16] = '🐟'\n",
        "        output[s] = '🐱'\n",
        "        for i in range(0, 1024, 32):\n",
        "            print(''.join(output[i:i+32]))\n",
        "    else:\n",
        "        print(\"DONE\")\n",
        "\n",
        "    print(\"\")\n",
        "\n",
        "for s in (0, 2 * 32 + 5, 16*32+16, 1023, 1024):\n",
        "    print_state(s)"
      ]
    },
    {
      "cell_type": "code",
      "metadata": {
        "id": "9bfc8a73"
      },
      "source": [
        "# Initialize the transition matrix P\n",
        "P = torch.zeros(1025, 1025)\n",
        "\n",
        "# Rule 3: If the state is 1024 (the done state), the state stays the same with probability 1.\n",
        "P[1024, 1024] = 1.0\n",
        "\n",
        "# Rule 4: If the state is 528 (cat is on the fish), the state changes to 1024 with probability 1.\n",
        "P[528, 1024] = 1.0\n",
        "\n",
        "# Rule 5: For any other state, transition to adjacent states with equal probability.\n",
        "for s in range(1024):\n",
        "    if s != 528:\n",
        "        x = s % 32\n",
        "        y = s // 32\n",
        "        neighbors = []\n",
        "        # Check adjacent states (up, down, left, right)\n",
        "        if y > 0:  # Up\n",
        "            neighbors.append(s - 32)\n",
        "        if y < 31: # Down\n",
        "            neighbors.append(s + 32)\n",
        "        if x > 0:  # Left\n",
        "            neighbors.append(s - 1)\n",
        "        if x < 31: # Right\n",
        "            neighbors.append(s + 1)\n",
        "\n",
        "        prob = 1.0 / len(neighbors)\n",
        "        for neighbor in neighbors:\n",
        "            P[s, neighbor] = prob"
      ],
      "id": "9bfc8a73",
      "execution_count": 15,
      "outputs": []
    },
    {
      "cell_type": "markdown",
      "id": "521853b7-9d62-4cef-b0e9-fc6385cee5ed",
      "metadata": {
        "id": "521853b7-9d62-4cef-b0e9-fc6385cee5ed"
      },
      "source": [
        "## State Transitions\n",
        "\n",
        "Construct a transition matrix P based on the following rules.\n",
        "\n",
        "1. P should be 1025x1025.\n",
        "2. P[i,j] should hold the probability of transitioning from state i to j in one step.\n",
        "3. If the state is 1024 (the done state), the state stays the same with probability 1.\n",
        "4. If the state is 528 (cat is on the fish), the state changes to 1024 with probability 1.\n",
        "5. For any other state,\n",
        "    * There are equal probabilities of transitioning to any states representing locations that are adjacent horizontally or vertically.\n",
        "    * The probability of transitioning to a state representing a non-adjacent location is zero.\n",
        "\n",
        "For example, state 0 (x=0,y=0) has a 50% chance of transitioning to state 1 (x=1,y=0) or state 32 (x=0,y=1) and 0% chance of transitioning to state 33 (x=1,y=1)."
      ]
    },
    {
      "cell_type": "code",
      "execution_count": 16,
      "id": "6c1d8cea-cdac-4e5c-85a4-3b44fe3a4db2",
      "metadata": {
        "id": "6c1d8cea-cdac-4e5c-85a4-3b44fe3a4db2"
      },
      "outputs": [],
      "source": [
        "# Initialize the transition matrix P\n",
        "P = torch.zeros(1025, 1025)\n",
        "\n",
        "# Rule 3: If the state is 1024 (the done state), the state stays the same with probability 1.\n",
        "P[1024, 1024] = 1.0\n",
        "\n",
        "# Rule 4: If the state is 528 (cat is on the fish), the state changes to 1024 with probability 1.\n",
        "P[528, 1024] = 1.0\n",
        "\n",
        "# Rule 5: For any other state, transition to adjacent states with equal probability.\n",
        "for s in range(1024):\n",
        "    if s != 528:\n",
        "        x = s % 32\n",
        "        y = s // 32\n",
        "        neighbors = []\n",
        "        # Check adjacent states (up, down, left, right)\n",
        "        if y > 0:  # Up\n",
        "            neighbors.append(s - 32)\n",
        "        if y < 31: # Down\n",
        "            neighbors.append(s + 32)\n",
        "        if x > 0:  # Left\n",
        "            neighbors.append(s - 1)\n",
        "        if x < 31: # Right\n",
        "            neighbors.append(s + 1)\n",
        "\n",
        "        prob = 1.0 / len(neighbors)\n",
        "        for neighbor in neighbors:\n",
        "            P[s, neighbor] = prob"
      ]
    },
    {
      "cell_type": "markdown",
      "id": "f1ccbabe-540b-4b6e-acf6-a4c17f5aa15a",
      "metadata": {
        "id": "f1ccbabe-540b-4b6e-acf6-a4c17f5aa15a"
      },
      "source": [
        "### Check that all the rows sum to one."
      ]
    },
    {
      "cell_type": "code",
      "execution_count": 17,
      "id": "a4eb18b8-e107-4c54-bf40-19695d01c9ec",
      "metadata": {
        "id": "a4eb18b8-e107-4c54-bf40-19695d01c9ec",
        "colab": {
          "base_uri": "https://localhost:8080/"
        },
        "outputId": "74baa894-1069-464d-e701-0f3def8fa4e1"
      },
      "outputs": [
        {
          "output_type": "execute_result",
          "data": {
            "text/plain": [
              "(tensor(1.), tensor(1.))"
            ]
          },
          "metadata": {},
          "execution_count": 17
        }
      ],
      "source": [
        "P_check = P.sum(axis=1)\n",
        "P_check.min(), P_check.max()"
      ]
    },
    {
      "cell_type": "markdown",
      "id": "fd39a16b-804f-4aa7-b5e3-df73440da5c4",
      "metadata": {
        "id": "fd39a16b-804f-4aa7-b5e3-df73440da5c4"
      },
      "source": [
        "## State Rewards\n",
        "\n",
        "Construct a reward vector R based on the following rules.\n",
        "\n",
        "1. R should be 1025x1.\n",
        "2. R[i] should hold the reward after state i.\n",
        "3. The reward after state 528 (cat is on fish) is 100.\n",
        "4. The reward for all other states is 0."
      ]
    },
    {
      "cell_type": "code",
      "execution_count": 18,
      "id": "8f883f4d-dd6d-4fac-a2da-734443e7aaf8",
      "metadata": {
        "id": "8f883f4d-dd6d-4fac-a2da-734443e7aaf8"
      },
      "outputs": [],
      "source": [
        "# Initialize the reward vector R\n",
        "R = torch.zeros(1025)\n",
        "\n",
        "# Rule 3: The reward after state 528 (cat is on fish) is 100.\n",
        "R[528] = 100"
      ]
    },
    {
      "cell_type": "markdown",
      "id": "28cbbadb-b617-45b2-9193-373c20bcc76e",
      "metadata": {
        "id": "28cbbadb-b617-45b2-9193-373c20bcc76e"
      },
      "source": [
        "## Expected State Values\n",
        "\n",
        "Compute the value function $v_*$ for each state using $\\gamma=0.9$ and save it in $v$."
      ]
    },
    {
      "cell_type": "code",
      "execution_count": 19,
      "id": "4bd520e0-2791-4153-9291-848248e6b833",
      "metadata": {
        "id": "4bd520e0-2791-4153-9291-848248e6b833"
      },
      "outputs": [],
      "source": [
        "gamma = 0.9\n",
        "I = torch.eye(1025)\n",
        "v = torch.linalg.solve(I - gamma * P, R)"
      ]
    },
    {
      "cell_type": "markdown",
      "id": "32ab1062-699c-4510-a779-ca77fcfbbdc2",
      "metadata": {
        "id": "32ab1062-699c-4510-a779-ca77fcfbbdc2"
      },
      "source": [
        "### Check special states"
      ]
    },
    {
      "cell_type": "code",
      "execution_count": 20,
      "id": "ae1e3b43-44f1-47da-a299-5a14ee7ce84c",
      "metadata": {
        "id": "ae1e3b43-44f1-47da-a299-5a14ee7ce84c",
        "colab": {
          "base_uri": "https://localhost:8080/"
        },
        "outputId": "ce5f9d4d-d20e-4b29-80f5-645e99dda43e"
      },
      "outputs": [
        {
          "output_type": "execute_result",
          "data": {
            "text/plain": [
              "tensor(0.)"
            ]
          },
          "metadata": {},
          "execution_count": 20
        }
      ],
      "source": [
        "# done state\n",
        "v[1024]"
      ]
    },
    {
      "cell_type": "code",
      "execution_count": 21,
      "id": "5f812386-714e-4986-9cc8-2963b05d8d72",
      "metadata": {
        "id": "5f812386-714e-4986-9cc8-2963b05d8d72",
        "colab": {
          "base_uri": "https://localhost:8080/"
        },
        "outputId": "6be244f8-0387-4b58-d5db-858b95720f17"
      },
      "outputs": [
        {
          "output_type": "execute_result",
          "data": {
            "text/plain": [
              "tensor(100.)"
            ]
          },
          "metadata": {},
          "execution_count": 21
        }
      ],
      "source": [
        "# cat arrived at fish\n",
        "v[528]"
      ]
    },
    {
      "cell_type": "code",
      "execution_count": 22,
      "id": "e485e356-143e-45a0-8d0d-2c4b5a6eaa33",
      "metadata": {
        "id": "e485e356-143e-45a0-8d0d-2c4b5a6eaa33",
        "colab": {
          "base_uri": "https://localhost:8080/"
        },
        "outputId": "ec8765a7-db6c-4d76-fd12-a3e9e4799a76"
      },
      "outputs": [
        {
          "output_type": "execute_result",
          "data": {
            "text/plain": [
              "tensor(34.5800)"
            ]
          },
          "metadata": {},
          "execution_count": 22
        }
      ],
      "source": [
        "# cat next to fish\n",
        "v[529]"
      ]
    },
    {
      "cell_type": "code",
      "execution_count": 23,
      "id": "c14d3d71-fb46-48d9-9711-7de1ff37971d",
      "metadata": {
        "id": "c14d3d71-fb46-48d9-9711-7de1ff37971d",
        "colab": {
          "base_uri": "https://localhost:8080/"
        },
        "outputId": "2218c0d4-265a-4dff-f06f-b408694a3061"
      },
      "outputs": [
        {
          "output_type": "execute_result",
          "data": {
            "text/plain": [
              "tensor(13.5796)"
            ]
          },
          "metadata": {},
          "execution_count": 23
        }
      ],
      "source": [
        "# cat farther from fish\n",
        "v[530]"
      ]
    },
    {
      "cell_type": "markdown",
      "id": "31b2a49d-835c-454f-bbad-666eae51eba3",
      "metadata": {
        "id": "31b2a49d-835c-454f-bbad-666eae51eba3"
      },
      "source": [
        "## Steady State Distribution\n",
        "\n",
        "Use repeated exponentiation to compute the steady state distribution of this Markov reward process.\n",
        "That is, take $P$ to a high enough power that the probabilities in each row are identical.\n",
        "Set `ss` to be a vector of 1025 probabilities for that steady state distribution."
      ]
    },
    {
      "cell_type": "code",
      "execution_count": 24,
      "id": "b64eddc5-7cc1-448c-a941-9f229f20c98b",
      "metadata": {
        "id": "b64eddc5-7cc1-448c-a941-9f229f20c98b"
      },
      "outputs": [],
      "source": [
        "# Compute the steady state distribution by raising P to a high power\n",
        "P_steady = torch.matrix_power(P, 1000) # Raising to a high power like 1000\n",
        "\n",
        "# The steady state distribution is the same for all rows of P_steady\n",
        "ss = P_steady[0]"
      ]
    },
    {
      "cell_type": "markdown",
      "id": "90e52479-1168-49d0-986b-22ec119eddab",
      "metadata": {
        "id": "90e52479-1168-49d0-986b-22ec119eddab"
      },
      "source": [
        "## Steady State Explanation\n",
        "\n",
        "In the cell below, describe the probabilities in `ss` as concisely as possible, and explain why they are that way."
      ]
    },
    {
      "cell_type": "markdown",
      "metadata": {
        "id": "d3eadaea"
      },
      "source": [
        "YOUR ANSWER HERE\n",
        "\n",
        "The steady state distribution [ss] has a probability of 1 for state 1024 (the done state) and a probability of 0 for all other states. This is because state 1024 is an absorbing state, meaning that once the process enters this state, it never leaves. The cat eventually reaches the fish at state 528 and transitions to the done state (1024), where it remains."
      ],
      "id": "d3eadaea"
    }
  ],
  "metadata": {
    "kernelspec": {
      "display_name": "Python 3 (ipykernel)",
      "language": "python",
      "name": "python3"
    },
    "language_info": {
      "codemirror_mode": {
        "name": "ipython",
        "version": 3
      },
      "file_extension": ".py",
      "mimetype": "text/x-python",
      "name": "python",
      "nbconvert_exporter": "python",
      "pygments_lexer": "ipython3",
      "version": "3.12.11"
    },
    "colab": {
      "provenance": []
    }
  },
  "nbformat": 4,
  "nbformat_minor": 5
}
{
  "cells": [
    {
      "cell_type": "markdown",
      "metadata": {
        "id": "j9PamOLZsYzm"
      },
      "source": [
        "# Lab 6\n",
        "\n",
        "This assignment can be divided into three parts, and each part contains some coding tasks:\n",
        "1. Hidden Markov Model\n",
        "    - Complete a model\n",
        "    - Implement the **Forward Procedure**, **Backward Procedure**\n",
        "\n",
        "Do **not** include any extra outputs in your final answer. If you use print() function for debugging, please run your code without them again before submitting."
      ]
    },
    {
      "cell_type": "markdown",
      "metadata": {
        "id": "KhZkRDrRuJ4r"
      },
      "source": [
        "## Q1: Hidden Markov Model\n",
        "\n",
        "In this problem, you need to first complete a model by filling some missing values according to the existing ones, and then implement and run **Forward Procedure**, **Backward Procedure**, and the **Viterbi Algorithm**."
      ]
    },
    {
      "cell_type": "markdown",
      "metadata": {
        "id": "N8OtTfM1_7_W"
      },
      "source": [
        "### Problem Setup\n",
        "\n",
        "Consider an HMM with the following properties (unknown values are marked with \"?\").\n",
        "\n",
        "States: $S = \\{S_{1}, S_{2}, S_{3}, S_{4}\\}$\n",
        "\n",
        "Initial state probability distribution: $\\pi = \\{\\pi_{1} = 0.3, \\pi_{2} = 0.1, \\pi_{3} = ?, \\pi_{4} = 0.5\\}$\n",
        "\n",
        "Transition probability matrix A, where each entry $a_{ij}$ is the probability of moving from state $S_{i}$ to state $S_{j}$:\n",
        "\n",
        "$$\\begin{bmatrix}\n",
        "? & 0.5 & 0.4 & 0\\\\\n",
        "? & 0.3 & 0.4 & 0.1\\\\\n",
        "? & 0.1 & 0.2 & 0.7 \\\\\n",
        "? & 0.2 & 0.2 & 0.2\n",
        "\\end{bmatrix}$$\n",
        "\n",
        "Symbols probability matrix $B$, where each entry $b_{jk} = b_{j}(k) = P[V_{k} \\; | \\; S_{j}]$ is the probability of yielding $V_{k}$ in state $S_{j}$:\n",
        "\n",
        "$$\\begin{bmatrix}\n",
        "0.5 & 0.4 & ? \\\\\n",
        "? & 0.3 & 0.1 \\\\\n",
        "0.8 & ? & 0.1 \\\\\n",
        "? & 0.3 & 0.7\n",
        "\\end{bmatrix}$$\n",
        "\n",
        "Let $\\lambda = (A, B, \\pi)$.\n",
        "\n",
        "Suppose we observe a sequence $O = V_{1}V_{3}V_{2}V_{1}$."
      ]
    },
    {
      "cell_type": "markdown",
      "metadata": {
        "id": "OyRdHZQY1joS"
      },
      "source": [
        "### Q1.1\n",
        "\n",
        "Complete the model by filling the unknown values in the following code block and run the cell. Make sure the outputs are all **True**.\n",
        "\n"
      ]
    },
    {
      "cell_type": "code",
      "execution_count": 4,
      "metadata": {
        "id": "f_DnIjNs3uIs",
        "colab": {
          "base_uri": "https://localhost:8080/"
        },
        "outputId": "4a874974-2cd0-464c-bb6c-7eb43c80771d"
      },
      "outputs": [
        {
          "output_type": "stream",
          "name": "stdout",
          "text": [
            "Sum of pi is one? True\n",
            "Sum of each row of A is one? True\n",
            "Sum of each row of B is one? True\n"
          ]
        }
      ],
      "source": [
        "import numpy as np\n",
        "\n",
        "M = 3 # vocabulary size\n",
        "N = 4 # state number\n",
        "V = [None, 0, 1, 2] # one-based, V[0] = None to align the indices\n",
        "x = np.nan\n",
        "# fill in the blank values for the following three arrays\n",
        "pi = np.array([0.3, 0.1, 0.1, 0.5])\n",
        "A = np.array([[1-0.5-0.4-0, 0.5, 0.4, 0], [1-0.3-0.4-0.1, 0.3, 0.4, 0.1], [1-0.1-0.2-0.7, 0.1, 0.2, 0.7], [1-0.2-0.2-0.2, 0.2, 0.2, 0.2]])\n",
        "B = np.array([[0.5, 0.4, 1-0.5-0.4 ], [1-0.3-0.1, 0.3, 0.1], [0.8, 1-0.8-0.1 , 0.1], [1-0.3-0.7, 0.3, 0.7]])\n",
        "\n",
        "O = [V[1], V[3], V[2], V[1]]\n",
        "\n",
        "print(\"Sum of pi is one? \" + str(np.linalg.norm(pi.sum() - 1) < 1e-9))\n",
        "print(\"Sum of each row of A is one? \" + str(np.linalg.norm(A.sum(axis = 1) - 1) < 1e-9))\n",
        "print(\"Sum of each row of B is one? \" + str(np.linalg.norm(B.sum(axis = 1) - 1) < 1e-9))"
      ]
    },
    {
      "cell_type": "markdown",
      "metadata": {
        "id": "zopdN3Jh2TXU"
      },
      "source": [
        "### Q1.2\n",
        "\n",
        "What is $P(O | \\lambda)$? Answer the question by finishing implementing the **Forward Procedure** and the **Backward Procedure** below and run the cells.\n",
        "\n",
        "***Hints***\n",
        "- The two procedures should yield the same final answer.\n",
        "- The forward procedure code prints the $\\alpha$ values as a table while the backward procedure code prints the $\\beta$ values as a table. Think of how the values are supposed to change over the steps/rows."
      ]
    },
    {
      "cell_type": "markdown",
      "metadata": {
        "id": "1554Lh6bBRvs"
      },
      "source": [
        "### **Forward Procedure**"
      ]
    },
    {
      "cell_type": "code",
      "execution_count": 5,
      "metadata": {
        "id": "FTmDSQfL3qQJ",
        "colab": {
          "base_uri": "https://localhost:8080/"
        },
        "outputId": "d44a7d08-f78b-46e7-9095-db83c174f6b4"
      },
      "outputs": [
        {
          "output_type": "stream",
          "name": "stdout",
          "text": [
            "alpha values:\n",
            "[[0.15       0.06       0.08       0.        ]\n",
            " [0.0027     0.0101     0.01       0.0434    ]\n",
            " [0.00786    0.004218   0.00158    0.005007  ]\n",
            " [0.0018162  0.00381288 0.00491888 0.        ]]\n",
            "\n",
            "P(O | lambda) = 0.010547960000000002\n"
          ]
        }
      ],
      "source": [
        "T = len(O)\n",
        "alpha = np.zeros((T, N))\n",
        "\n",
        "# initialization\n",
        "for i in range(N): # complete this loop\n",
        "    ################### start of your code ###################\n",
        "    alpha[0, i] = pi[i] * B[i, O[0]]\n",
        "    #################### end of your code ####################\n",
        "\n",
        "# inductive steps\n",
        "for t in range(1, T): # complete this loop\n",
        "    ################### start of your code ###################\n",
        "    for j in range(N):\n",
        "        for i in range(N):\n",
        "            alpha[t, j] += alpha[t-1, i] * A[i, j]\n",
        "        alpha[t, j] *= B[j, O[t]]\n",
        "    #################### end of your code ####################\n",
        "print(\"alpha values:\")\n",
        "print(alpha)\n",
        "print()\n",
        "\n",
        "# final answer\n",
        "################### start of your code ###################\n",
        "answer = np.sum(alpha[T-1, :]) # this variable should store your final answer\n",
        "#################### end of your code ####################\n",
        "print(\"P(O | lambda) = \" + str(answer))"
      ]
    },
    {
      "cell_type": "markdown",
      "metadata": {
        "id": "lJ3Zo1buAywC"
      },
      "source": [
        "### **Backward Procedure**"
      ]
    },
    {
      "cell_type": "code",
      "execution_count": 6,
      "metadata": {
        "id": "WQSZrXPyBh-i",
        "colab": {
          "base_uri": "https://localhost:8080/"
        },
        "outputId": "227bb23c-2815-4b12-f776-b39f3db6a622"
      },
      "outputs": [
        {
          "output_type": "stream",
          "name": "stdout",
          "text": [
            "beta values:\n",
            "[[0.012724 0.023712 0.090208 0.0348  ]\n",
            " [0.1256   0.1308   0.1232   0.1764  ]\n",
            " [0.67     0.6      0.22     0.48    ]\n",
            " [1.       1.       1.       1.      ]]\n",
            "\n",
            "P(O | lambda) = 0.010547960000000002\n"
          ]
        }
      ],
      "source": [
        "T = len(O)\n",
        "beta = np.zeros((T, N))\n",
        "\n",
        "# initialization\n",
        "for i in range(N): # complete this loop\n",
        "    ################### start of your code ###################\n",
        "    beta[T-1, i] = 1\n",
        "    #################### end of your code ###################\n",
        "\n",
        "# inductive steps\n",
        "for t in range(T - 2, -1, -1): # complete this loop\n",
        "    ################### start of your code ###################\n",
        "    for i in range(N):\n",
        "        for j in range(N):\n",
        "            beta[t, i] += A[i, j] * B[j, O[t+1]] * beta[t+1, j]\n",
        "    #################### end of your code ###################\n",
        "print(\"beta values:\")\n",
        "print(beta)\n",
        "print()\n",
        "\n",
        "# final answer\n",
        "# complete this part\n",
        "################### start of your code ###################\n",
        "answer = np.sum(pi[:] * B[:, O[0]] * beta[0, :]) # this variable should store your final answer\n",
        "\n",
        "#################### end of your code ####################\n",
        "print(\"P(O | lambda) = \" + str(answer))"
      ]
    },
    {
      "cell_type": "markdown",
      "metadata": {
        "id": "bda1d36a"
      },
      "source": [
        "### Q1.3\n",
        "\n",
        "Implement the **Viterbi Algorithm** to find the most likely sequence of hidden states that produced the observed sequence $O$."
      ]
    },
    {
      "cell_type": "code",
      "metadata": {
        "colab": {
          "base_uri": "https://localhost:8080/"
        },
        "id": "84060d6d",
        "outputId": "c6bbb76c-276c-4168-c727-9a784447ff86"
      },
      "source": [
        "# Implement the Viterbi Algorithm here\n",
        "\n",
        "# initialization\n",
        "delta = np.zeros((T, N))\n",
        "psi = np.zeros((T, N), dtype=int)\n",
        "\n",
        "# complete this loop\n",
        "################### start of your code ###################\n",
        "for i in range(N):\n",
        "    delta[0, i] = pi[i] * B[i, O[0]]\n",
        "    psi[0, i] = 0 # Or a placeholder indicating no previous state\n",
        "#################### end of your code ####################\n",
        "\n",
        "# inductive steps\n",
        "for t in range(1, T): # complete this loop\n",
        "    ################### start of your code ###################\n",
        "    for j in range(N):\n",
        "        max_prob = -1\n",
        "        max_state = -1\n",
        "        for i in range(N):\n",
        "            prob = delta[t-1, i] * A[i, j]\n",
        "            if prob > max_prob:\n",
        "                max_prob = prob\n",
        "                max_state = i\n",
        "        delta[t, j] = max_prob * B[j, O[t]]\n",
        "        psi[t, j] = max_state\n",
        "    #################### end of your code ####################\n",
        "\n",
        "# termination\n",
        "################### start of your code ###################\n",
        "best_path_prob = np.max(delta[T-1, :])\n",
        "best_path_pointer = np.argmax(delta[T-1, :])\n",
        "#################### end of your code ####################\n",
        "\n",
        "# path backtracking\n",
        "best_path = [0] * T\n",
        "################### start of your code ###################\n",
        "best_path[T-1] = best_path_pointer\n",
        "for t in range(T-2, -1, -1):\n",
        "    best_path[t] = psi[t+1, best_path[t+1]]\n",
        "#################### end of your code ###################\n",
        "\n",
        "print(\"Delta values:\")\n",
        "print(delta)\n",
        "print()\n",
        "print(\"Psi values:\")\n",
        "print(psi)\n",
        "print()\n",
        "print(\"Best path probability: \" + str(best_path_prob))\n",
        "print(\"Best path: \" + str([s + 1 for s in best_path])) # Adding 1 to convert from 0-based index to 1-based state number"
      ],
      "execution_count": 7,
      "outputs": [
        {
          "output_type": "stream",
          "name": "stdout",
          "text": [
            "Delta values:\n",
            "[[0.15       0.06       0.08       0.        ]\n",
            " [0.0015     0.0075     0.006      0.0392    ]\n",
            " [0.006272   0.002352   0.000784   0.002352  ]\n",
            " [0.0004704  0.0018816  0.00200704 0.        ]]\n",
            "\n",
            "Psi values:\n",
            "[[0 0 0 0]\n",
            " [0 0 0 2]\n",
            " [3 3 3 3]\n",
            " [3 0 0 2]]\n",
            "\n",
            "Best path probability: 0.002007040000000001\n",
            "Best path: [np.int64(3), np.int64(4), np.int64(1), np.int64(3)]\n"
          ]
        }
      ]
    }
  ],
  "metadata": {
    "colab": {
      "provenance": []
    },
    "kernelspec": {
      "display_name": "pose",
      "language": "python",
      "name": "python3"
    },
    "language_info": {
      "codemirror_mode": {
        "name": "ipython",
        "version": 3
      },
      "file_extension": ".py",
      "mimetype": "text/x-python",
      "name": "python",
      "nbconvert_exporter": "python",
      "pygments_lexer": "ipython3",
      "version": "3.10.13"
    }
  },
  "nbformat": 4,
  "nbformat_minor": 0
}
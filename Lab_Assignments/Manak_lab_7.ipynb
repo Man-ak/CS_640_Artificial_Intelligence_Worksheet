{
  "cells": [
    {
      "cell_type": "markdown",
      "id": "e14e869c",
      "metadata": {
        "id": "e14e869c"
      },
      "source": [
        "## Lab 7 : Training A small neural network\n",
        "\n",
        "Submission Guide: Run all cells and upload your notebook on Gradescope"
      ]
    },
    {
      "cell_type": "code",
      "execution_count": 1,
      "id": "173ffb03",
      "metadata": {
        "id": "173ffb03"
      },
      "outputs": [],
      "source": [
        "import torch\n",
        "import torch.nn as nn\n",
        "import torch.optim as optim\n",
        "from torch.utils.data import Dataset, DataLoader, random_split\n",
        "from sklearn.datasets import load_iris\n",
        "from sklearn.preprocessing import StandardScaler\n",
        "import matplotlib.pyplot as plt"
      ]
    },
    {
      "cell_type": "code",
      "execution_count": 2,
      "id": "30712385",
      "metadata": {
        "id": "30712385"
      },
      "outputs": [],
      "source": [
        "# Load Iris dataset from sklearn\n",
        "iris = load_iris()\n",
        "X = iris.data\n",
        "y = iris.target\n",
        "\n",
        "# Normalize features\n",
        "scaler = StandardScaler()\n",
        "X = scaler.fit_transform(X)\n",
        "\n",
        "# Convert to torch tensors\n",
        "X_tensor = torch.tensor(X, dtype=torch.float32)\n",
        "y_tensor = torch.tensor(y, dtype=torch.long)\n",
        "\n",
        "# Create a custom dataset\n",
        "class IrisDataset(Dataset):\n",
        "    def __init__(self, features, labels):\n",
        "        self.X = features\n",
        "        self.y = labels\n",
        "\n",
        "    def __len__(self):\n",
        "        return len(self.y)\n",
        "\n",
        "    def __getitem__(self, idx):\n",
        "        return self.X[idx], self.y[idx]\n",
        "\n",
        "# Create dataset and split into train/test\n",
        "dataset = IrisDataset(X_tensor, y_tensor)\n",
        "train_size = int(0.8 * len(dataset))\n",
        "test_size = len(dataset) - train_size\n",
        "train_dataset, test_dataset = random_split(dataset, [train_size, test_size])\n",
        "\n",
        "train_loader = DataLoader(train_dataset, batch_size=16, shuffle=True)\n",
        "test_loader = DataLoader(test_dataset, batch_size=16, shuffle=False)\n"
      ]
    },
    {
      "cell_type": "code",
      "execution_count": 3,
      "id": "be2107ff",
      "metadata": {
        "colab": {
          "base_uri": "https://localhost:8080/"
        },
        "id": "be2107ff",
        "outputId": "9e31928e-069d-4405-eae8-7b016192f7d4"
      },
      "outputs": [
        {
          "output_type": "stream",
          "name": "stdout",
          "text": [
            "Input Features: tensor([-0.9007,  1.0190, -1.3402, -1.3154])\n",
            "Output Class: tensor(0)\n"
          ]
        }
      ],
      "source": [
        "# Sample Dataset Output\n",
        "x,y = dataset[0]\n",
        "print(\"Input Features:\",x)\n",
        "print(\"Output Class:\",y)"
      ]
    },
    {
      "cell_type": "code",
      "execution_count": 6,
      "id": "c334c207",
      "metadata": {
        "id": "c334c207"
      },
      "outputs": [],
      "source": [
        "def train_and_evaluate(lr, hidden_sizes, batch_size, num_epochs=30):\n",
        "    \"\"\"\n",
        "    Train and evaluate a feedforward network with variable hidden layers.\n",
        "\n",
        "    Args:\n",
        "        lr (float): Learning rate for optimizer\n",
        "        hidden_sizes (list[int]): List of hidden layer sizes, e.g. [16, 8, 4]\n",
        "        batch_size (int): Mini-batch size\n",
        "        num_epochs (int): Number of training epochs\n",
        "    Returns:\n",
        "        float: Test accuracy percentage\n",
        "    \"\"\"\n",
        "    # Data loaders\n",
        "    train_loader = DataLoader(train_dataset, batch_size=batch_size, shuffle=True)\n",
        "    test_loader = DataLoader(test_dataset, batch_size=batch_size, shuffle=False)\n",
        "\n",
        "    # Define dynamic model\n",
        "    class DynamicIrisNet(nn.Module):\n",
        "        def __init__(self, hidden_sizes:list[int]):\n",
        "            super().__init__()\n",
        "            layers = []\n",
        "            input_dim = 4  # Iris features\n",
        "            output_dim = 3\n",
        "\n",
        "            # TODO: Use nn.Linear(input_features,output_features) and nn.ReLU as the non-linearity\n",
        "            # For this dataset, your input is a 4 dimensional vector and you need to output 3 logits (one per class).\n",
        "            # The hidden_sizes is a list of integers, your model should have one hidden layer of size s for each s in hidden_sizes\n",
        "            # Do not forget non-linearity\n",
        "            prev_layer_size = input_dim\n",
        "            for hidden_size in hidden_sizes:\n",
        "                layers.append(nn.Linear(prev_layer_size, hidden_size))\n",
        "                layers.append(nn.ReLU())\n",
        "                prev_layer_size = hidden_size\n",
        "\n",
        "            # Output layer (3 classes)\n",
        "            layers.append(nn.Linear(prev_layer_size, output_dim))\n",
        "\n",
        "            self.network = nn.Sequential(*layers)\n",
        "\n",
        "\n",
        "        def forward(self, x):\n",
        "            #raise NotImplementedError(\"Implement Forward Pass\")\n",
        "            #pass\n",
        "            return self.network(x)\n",
        "\n",
        "    # Initialize model, loss, optimizer\n",
        "    model = DynamicIrisNet(hidden_sizes)\n",
        "    criterion = nn.CrossEntropyLoss()\n",
        "    optimizer = optim.Adam(model.parameters(), lr=lr)\n",
        "\n",
        "    # Training loop\n",
        "    for epoch in range(num_epochs):\n",
        "        model.train()\n",
        "        for X_batch, y_batch in train_loader:\n",
        "            # Algorithm:\n",
        "            # Use the zero_grad function to reset the gradients before forward pass\n",
        "            # Forward Pass\n",
        "            # Loss function\n",
        "            # Backward Pass\n",
        "            # Optimzer Step\n",
        "            optimizer.zero_grad()\n",
        "            outputs = model(X_batch)\n",
        "            loss = criterion(outputs, y_batch)\n",
        "            loss.backward()\n",
        "            optimizer.step()\n",
        "\n",
        "    # Evaluation\n",
        "    model.eval()\n",
        "    correct, total = 0, 0\n",
        "    with torch.no_grad():\n",
        "        for X_test, y_test in test_loader:\n",
        "            outputs = model(X_test)\n",
        "            # Generate Predictions!\n",
        "            #predicted = torch.ones_like(y_test) * -1 # TODO: Modify this with correct prediction\n",
        "            _, predicted = torch.max(outputs.data, 1)\n",
        "            total += y_test.size(0)\n",
        "            correct += (predicted == y_test).sum().item()\n",
        "\n",
        "    accuracy = 100 * correct / total\n",
        "    return accuracy"
      ]
    },
    {
      "cell_type": "code",
      "execution_count": 7,
      "id": "8ab4baea",
      "metadata": {
        "colab": {
          "base_uri": "https://localhost:8080/"
        },
        "id": "8ab4baea",
        "outputId": "0cfa53aa-21ab-4f57-9301-faf21aa7c3a8"
      },
      "outputs": [
        {
          "output_type": "stream",
          "name": "stdout",
          "text": [
            "lr=0.001, hidden=[8, 8, 8], batch=8 ? accuracy=83.33%\n",
            "lr=0.001, hidden=[8, 8, 8], batch=16 ? accuracy=66.67%\n",
            "lr=0.001, hidden=[8, 8, 8], batch=32 ? accuracy=63.33%\n",
            "lr=0.001, hidden=[16, 8], batch=8 ? accuracy=83.33%\n",
            "lr=0.001, hidden=[16, 8], batch=16 ? accuracy=83.33%\n",
            "lr=0.001, hidden=[16, 8], batch=32 ? accuracy=83.33%\n",
            "lr=0.001, hidden=[32, 16, 8], batch=8 ? accuracy=90.00%\n",
            "lr=0.001, hidden=[32, 16, 8], batch=16 ? accuracy=66.67%\n",
            "lr=0.001, hidden=[32, 16, 8], batch=32 ? accuracy=56.67%\n",
            "lr=0.01, hidden=[8, 8, 8], batch=8 ? accuracy=90.00%\n",
            "lr=0.01, hidden=[8, 8, 8], batch=16 ? accuracy=90.00%\n",
            "lr=0.01, hidden=[8, 8, 8], batch=32 ? accuracy=93.33%\n",
            "lr=0.01, hidden=[16, 8], batch=8 ? accuracy=86.67%\n",
            "lr=0.01, hidden=[16, 8], batch=16 ? accuracy=90.00%\n",
            "lr=0.01, hidden=[16, 8], batch=32 ? accuracy=93.33%\n",
            "lr=0.01, hidden=[32, 16, 8], batch=8 ? accuracy=90.00%\n",
            "lr=0.01, hidden=[32, 16, 8], batch=16 ? accuracy=90.00%\n",
            "lr=0.01, hidden=[32, 16, 8], batch=32 ? accuracy=90.00%\n",
            "lr=0.05, hidden=[8, 8, 8], batch=8 ? accuracy=66.67%\n",
            "lr=0.05, hidden=[8, 8, 8], batch=16 ? accuracy=86.67%\n",
            "lr=0.05, hidden=[8, 8, 8], batch=32 ? accuracy=93.33%\n",
            "lr=0.05, hidden=[16, 8], batch=8 ? accuracy=90.00%\n",
            "lr=0.05, hidden=[16, 8], batch=16 ? accuracy=90.00%\n",
            "lr=0.05, hidden=[16, 8], batch=32 ? accuracy=90.00%\n",
            "lr=0.05, hidden=[32, 16, 8], batch=8 ? accuracy=90.00%\n",
            "lr=0.05, hidden=[32, 16, 8], batch=16 ? accuracy=90.00%\n",
            "lr=0.05, hidden=[32, 16, 8], batch=32 ? accuracy=90.00%\n"
          ]
        }
      ],
      "source": [
        "learning_rates = [0.001,0.01,0.05]\n",
        "hidden_sizes = [[8,8,8], [16,8], [32,16,8]]\n",
        "batch_sizes = [8, 16, 32]\n",
        "\n",
        "results = []\n",
        "\n",
        "for lr in learning_rates:\n",
        "    for h in hidden_sizes:\n",
        "        for b in batch_sizes:\n",
        "            acc = train_and_evaluate(lr, h, b)\n",
        "            results.append((lr, h, b, acc))\n",
        "            print(f\"lr={lr}, hidden={h}, batch={b} ? accuracy={acc:.2f}%\")\n"
      ]
    },
    {
      "cell_type": "code",
      "execution_count": 8,
      "id": "9c9a5f7b",
      "metadata": {
        "colab": {
          "base_uri": "https://localhost:8080/",
          "height": 626
        },
        "id": "9c9a5f7b",
        "outputId": "14c3c4e6-eb11-4579-833a-401c5b26b635"
      },
      "outputs": [
        {
          "output_type": "stream",
          "name": "stdout",
          "text": [
            "\n",
            "Top 5 Configurations:\n",
            "    Learning Rate  Hidden Size  Batch Size   Accuracy\n",
            "20           0.05    [8, 8, 8]          32  93.333333\n",
            "14           0.01      [16, 8]          32  93.333333\n",
            "11           0.01    [8, 8, 8]          32  93.333333\n",
            "15           0.01  [32, 16, 8]           8  90.000000\n",
            "21           0.05      [16, 8]           8  90.000000\n"
          ]
        },
        {
          "output_type": "display_data",
          "data": {
            "text/plain": [
              "<Figure size 800x500 with 1 Axes>"
            ],
            "image/png": "[encoded data removed]"
          },
          "metadata": {}
        }
      ],
      "source": [
        "import pandas as pd\n",
        "\n",
        "df = pd.DataFrame(results, columns=[\"Learning Rate\", \"Hidden Size\", \"Batch Size\", \"Accuracy\"])\n",
        "df_sorted = df.sort_values(by=\"Accuracy\", ascending=False)\n",
        "print(\"\\nTop 5 Configurations:\")\n",
        "print(df_sorted.head(5))\n",
        "\n",
        "plt.figure(figsize=(8,5))\n",
        "plt.plot(df_sorted[\"Accuracy\"].values, marker='o')\n",
        "plt.title(\"Hyperparameter Search Results\")\n",
        "plt.xlabel(\"Configuration Index\")\n",
        "plt.ylabel(\"Accuracy (%)\")\n",
        "plt.show()\n"
      ]
    }
  ],
  "metadata": {
    "kernelspec": {
      "display_name": "pose",
      "language": "python",
      "name": "python3"
    },
    "language_info": {
      "codemirror_mode": {
        "name": "ipython",
        "version": 3
      },
      "file_extension": ".py",
      "mimetype": "text/x-python",
      "name": "python",
      "nbconvert_exporter": "python",
      "pygments_lexer": "ipython3",
      "version": "3.10.13"
    },
    "colab": {
      "provenance": []
    }
  },
  "nbformat": 4,
  "nbformat_minor": 5
}